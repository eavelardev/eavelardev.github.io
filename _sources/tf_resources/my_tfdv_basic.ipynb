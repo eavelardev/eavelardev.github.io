{
 "cells": [
  {
   "attachments": {},
   "cell_type": "markdown",
   "metadata": {},
   "source": [
    "# tfdv_basic.ipynb"
   ]
  },
  {
   "attachments": {},
   "cell_type": "markdown",
   "metadata": {},
   "source": [
    "Based on:\n",
    "* ../data_validation/[tfdv_basic.ipynb](https://github.com/tensorflow/tfx/blob/master/docs/tutorials/data_validation/tfdv_basic.ipynb) \n",
    "* commit `d2a3417`. In case of [updates](https://github.com/tensorflow/tfx/commits/master/docs/tutorials/data_validation/tfdv_basic.ipynb) available, [compare](https://github.com/GoogleCloudPlatform/training-data-analyst/compare/d2a3417..)."
   ]
  },
  {
   "cell_type": "code",
   "execution_count": 1,
   "metadata": {},
   "outputs": [],
   "source": [
    "import os\n",
    "import tensorflow as tf\n",
    "import tensorflow_data_validation as tfdv"
   ]
  },
  {
   "cell_type": "code",
   "execution_count": 2,
   "metadata": {},
   "outputs": [],
   "source": [
    "dataset_url = 'https://storage.googleapis.com/artifacts.tfx-oss-public.appspot.com/datasets'\n",
    "dataset_path = tf.keras.utils.get_file(origin=f'{dataset_url}/chicago_data.zip', \n",
    "                                       cache_subdir='chicago_data', extract=True)\n",
    "\n",
    "BASE_DIR = os.path.dirname(dataset_path)\n",
    "DATA_DIR = os.path.join(BASE_DIR, 'data')\n",
    "OUTPUT_DIR = os.path.join(BASE_DIR, 'chicago_taxi_output')\n",
    "TRAIN_DATA = os.path.join(DATA_DIR, 'train', 'data.csv')\n",
    "EVAL_DATA = os.path.join(DATA_DIR, 'eval', 'data.csv')\n",
    "SERVING_DATA = os.path.join(DATA_DIR, 'serving', 'data.csv')"
   ]
  },
  {
   "cell_type": "code",
   "execution_count": null,
   "metadata": {},
   "outputs": [],
   "source": [
    "train_stats = tfdv.generate_statistics_from_csv(TRAIN_DATA)\n",
    "tfdv.visualize_statistics(train_stats)"
   ]
  },
  {
   "cell_type": "code",
   "execution_count": 4,
   "metadata": {},
   "outputs": [
    {
     "data": {
      "text/html": [
       "<div>\n",
       "<style scoped>\n",
       "    .dataframe tbody tr th:only-of-type {\n",
       "        vertical-align: middle;\n",
       "    }\n",
       "\n",
       "    .dataframe tbody tr th {\n",
       "        vertical-align: top;\n",
       "    }\n",
       "\n",
       "    .dataframe thead th {\n",
       "        text-align: right;\n",
       "    }\n",
       "</style>\n",
       "<table border=\"1\" class=\"dataframe\">\n",
       "  <thead>\n",
       "    <tr style=\"text-align: right;\">\n",
       "      <th></th>\n",
       "      <th>Type</th>\n",
       "      <th>Presence</th>\n",
       "      <th>Valency</th>\n",
       "      <th>Domain</th>\n",
       "    </tr>\n",
       "    <tr>\n",
       "      <th>Feature name</th>\n",
       "      <th></th>\n",
       "      <th></th>\n",
       "      <th></th>\n",
       "      <th></th>\n",
       "    </tr>\n",
       "  </thead>\n",
       "  <tbody>\n",
       "    <tr>\n",
       "      <th>'pickup_community_area'</th>\n",
       "      <td>INT</td>\n",
       "      <td>required</td>\n",
       "      <td></td>\n",
       "      <td>-</td>\n",
       "    </tr>\n",
       "    <tr>\n",
       "      <th>'fare'</th>\n",
       "      <td>FLOAT</td>\n",
       "      <td>required</td>\n",
       "      <td></td>\n",
       "      <td>-</td>\n",
       "    </tr>\n",
       "    <tr>\n",
       "      <th>'trip_start_month'</th>\n",
       "      <td>INT</td>\n",
       "      <td>required</td>\n",
       "      <td></td>\n",
       "      <td>-</td>\n",
       "    </tr>\n",
       "    <tr>\n",
       "      <th>'trip_start_hour'</th>\n",
       "      <td>INT</td>\n",
       "      <td>required</td>\n",
       "      <td></td>\n",
       "      <td>-</td>\n",
       "    </tr>\n",
       "    <tr>\n",
       "      <th>'trip_start_day'</th>\n",
       "      <td>INT</td>\n",
       "      <td>required</td>\n",
       "      <td></td>\n",
       "      <td>-</td>\n",
       "    </tr>\n",
       "    <tr>\n",
       "      <th>'trip_start_timestamp'</th>\n",
       "      <td>INT</td>\n",
       "      <td>required</td>\n",
       "      <td></td>\n",
       "      <td>-</td>\n",
       "    </tr>\n",
       "    <tr>\n",
       "      <th>'pickup_latitude'</th>\n",
       "      <td>FLOAT</td>\n",
       "      <td>required</td>\n",
       "      <td></td>\n",
       "      <td>-</td>\n",
       "    </tr>\n",
       "    <tr>\n",
       "      <th>'pickup_longitude'</th>\n",
       "      <td>FLOAT</td>\n",
       "      <td>required</td>\n",
       "      <td></td>\n",
       "      <td>-</td>\n",
       "    </tr>\n",
       "    <tr>\n",
       "      <th>'dropoff_latitude'</th>\n",
       "      <td>FLOAT</td>\n",
       "      <td>optional</td>\n",
       "      <td>single</td>\n",
       "      <td>-</td>\n",
       "    </tr>\n",
       "    <tr>\n",
       "      <th>'dropoff_longitude'</th>\n",
       "      <td>FLOAT</td>\n",
       "      <td>optional</td>\n",
       "      <td>single</td>\n",
       "      <td>-</td>\n",
       "    </tr>\n",
       "    <tr>\n",
       "      <th>'trip_miles'</th>\n",
       "      <td>FLOAT</td>\n",
       "      <td>required</td>\n",
       "      <td></td>\n",
       "      <td>-</td>\n",
       "    </tr>\n",
       "    <tr>\n",
       "      <th>'pickup_census_tract'</th>\n",
       "      <td>BYTES</td>\n",
       "      <td>optional</td>\n",
       "      <td></td>\n",
       "      <td>-</td>\n",
       "    </tr>\n",
       "    <tr>\n",
       "      <th>'dropoff_census_tract'</th>\n",
       "      <td>INT</td>\n",
       "      <td>optional</td>\n",
       "      <td>single</td>\n",
       "      <td>-</td>\n",
       "    </tr>\n",
       "    <tr>\n",
       "      <th>'payment_type'</th>\n",
       "      <td>STRING</td>\n",
       "      <td>required</td>\n",
       "      <td></td>\n",
       "      <td>'payment_type'</td>\n",
       "    </tr>\n",
       "    <tr>\n",
       "      <th>'company'</th>\n",
       "      <td>STRING</td>\n",
       "      <td>optional</td>\n",
       "      <td>single</td>\n",
       "      <td>'company'</td>\n",
       "    </tr>\n",
       "    <tr>\n",
       "      <th>'trip_seconds'</th>\n",
       "      <td>INT</td>\n",
       "      <td>required</td>\n",
       "      <td></td>\n",
       "      <td>-</td>\n",
       "    </tr>\n",
       "    <tr>\n",
       "      <th>'dropoff_community_area'</th>\n",
       "      <td>INT</td>\n",
       "      <td>optional</td>\n",
       "      <td>single</td>\n",
       "      <td>-</td>\n",
       "    </tr>\n",
       "    <tr>\n",
       "      <th>'tips'</th>\n",
       "      <td>FLOAT</td>\n",
       "      <td>required</td>\n",
       "      <td></td>\n",
       "      <td>-</td>\n",
       "    </tr>\n",
       "  </tbody>\n",
       "</table>\n",
       "</div>"
      ],
      "text/plain": [
       "                            Type  Presence Valency          Domain\n",
       "Feature name                                                      \n",
       "'pickup_community_area'      INT  required                       -\n",
       "'fare'                     FLOAT  required                       -\n",
       "'trip_start_month'           INT  required                       -\n",
       "'trip_start_hour'            INT  required                       -\n",
       "'trip_start_day'             INT  required                       -\n",
       "'trip_start_timestamp'       INT  required                       -\n",
       "'pickup_latitude'          FLOAT  required                       -\n",
       "'pickup_longitude'         FLOAT  required                       -\n",
       "'dropoff_latitude'         FLOAT  optional  single               -\n",
       "'dropoff_longitude'        FLOAT  optional  single               -\n",
       "'trip_miles'               FLOAT  required                       -\n",
       "'pickup_census_tract'      BYTES  optional                       -\n",
       "'dropoff_census_tract'       INT  optional  single               -\n",
       "'payment_type'            STRING  required          'payment_type'\n",
       "'company'                 STRING  optional  single       'company'\n",
       "'trip_seconds'               INT  required                       -\n",
       "'dropoff_community_area'     INT  optional  single               -\n",
       "'tips'                     FLOAT  required                       -"
      ]
     },
     "metadata": {},
     "output_type": "display_data"
    },
    {
     "data": {
      "text/html": [
       "<div>\n",
       "<style scoped>\n",
       "    .dataframe tbody tr th:only-of-type {\n",
       "        vertical-align: middle;\n",
       "    }\n",
       "\n",
       "    .dataframe tbody tr th {\n",
       "        vertical-align: top;\n",
       "    }\n",
       "\n",
       "    .dataframe thead th {\n",
       "        text-align: right;\n",
       "    }\n",
       "</style>\n",
       "<table border=\"1\" class=\"dataframe\">\n",
       "  <thead>\n",
       "    <tr style=\"text-align: right;\">\n",
       "      <th></th>\n",
       "      <th>Values</th>\n",
       "    </tr>\n",
       "    <tr>\n",
       "      <th>Domain</th>\n",
       "      <th></th>\n",
       "    </tr>\n",
       "  </thead>\n",
       "  <tbody>\n",
       "    <tr>\n",
       "      <th>'payment_type'</th>\n",
       "      <td>'Cash', 'Credit Card', 'Dispute', 'No Charge', 'Pcard', 'Unknown'</td>\n",
       "    </tr>\n",
       "    <tr>\n",
       "      <th>'company'</th>\n",
       "      <td>'0118 - 42111 Godfrey S.Awir', '0694 - 59280 Chinesco Trans Inc', '1085 - 72312 N and W Cab Co', '2733 - 74600 Benny Jona', '2809 - 95474 C &amp; D Cab Co Inc.', '3011 - 66308 JBL Cab Inc.', '3152 - 97284 Crystal Abernathy', '3201 - C&amp;D Cab Co Inc', '3201 - CID Cab Co Inc', '3253 - 91138 Gaither Cab Co.', '3385 - 23210 Eman Cab', '3623 - 72222 Arrington Enterprises', '3897 - Ilie Malec', '4053 - Adwar H. Nikola', '4197 - 41842 Royal Star', '4615 - 83503 Tyrone Henderson', '4615 - Tyrone Henderson', '4623 - Jay Kim', '5006 - 39261 Salifu Bawa', '5006 - Salifu Bawa', '5074 - 54002 Ahzmi Inc', '5074 - Ahzmi Inc', '5129 - 87128', '5129 - 98755 Mengisti Taxi', '5129 - Mengisti Taxi', '5724 - KYVI Cab Inc', '585 - Valley Cab Co', '5864 - 73614 Thomas Owusu', '5864 - Thomas Owusu', '5874 - 73628 Sergey Cab Corp.', '5997 - 65283 AW Services Inc.', '5997 - AW Services Inc.', '6488 - 83287 Zuha Taxi', '6743 - Luhak Corp', 'Blue Ribbon Taxi Association Inc.', 'C &amp; D Cab Co Inc', 'Chicago Elite Cab Corp.', 'Chicago Elite Cab Corp. (Chicago Carriag', 'Chicago Medallion Leasing INC', 'Chicago Medallion Management', 'Choice Taxi Association', 'Dispatch Taxi Affiliation', 'KOAM Taxi Association', 'Northwest Management LLC', 'Taxi Affiliation Services', 'Top Cab Affiliation'</td>\n",
       "    </tr>\n",
       "  </tbody>\n",
       "</table>\n",
       "</div>"
      ],
      "text/plain": [
       "                                                                                                                                                                                                                                                                                                                                                                                                                                                                                                                                                                                                                                                                                                                                                                                                                                                                                                                                                                                                                                                                                                                                                                                                                                                                                                                                    Values\n",
       "Domain                                                                                                                                                                                                                                                                                                                                                                                                                                                                                                                                                                                                                                                                                                                                                                                                                                                                                                                                                                                                                                                                                                                                                                                                                                                                                                                                    \n",
       "'payment_type'                                                                                                                                                                                                                                                                                                                                                                                                                                                                                                                                                                                                                                                                                                                                                                                                                                                                                                                                                                                                                                                                                                                                                                                                                                                           'Cash', 'Credit Card', 'Dispute', 'No Charge', 'Pcard', 'Unknown'\n",
       "'company'       '0118 - 42111 Godfrey S.Awir', '0694 - 59280 Chinesco Trans Inc', '1085 - 72312 N and W Cab Co', '2733 - 74600 Benny Jona', '2809 - 95474 C & D Cab Co Inc.', '3011 - 66308 JBL Cab Inc.', '3152 - 97284 Crystal Abernathy', '3201 - C&D Cab Co Inc', '3201 - CID Cab Co Inc', '3253 - 91138 Gaither Cab Co.', '3385 - 23210 Eman Cab', '3623 - 72222 Arrington Enterprises', '3897 - Ilie Malec', '4053 - Adwar H. Nikola', '4197 - 41842 Royal Star', '4615 - 83503 Tyrone Henderson', '4615 - Tyrone Henderson', '4623 - Jay Kim', '5006 - 39261 Salifu Bawa', '5006 - Salifu Bawa', '5074 - 54002 Ahzmi Inc', '5074 - Ahzmi Inc', '5129 - 87128', '5129 - 98755 Mengisti Taxi', '5129 - Mengisti Taxi', '5724 - KYVI Cab Inc', '585 - Valley Cab Co', '5864 - 73614 Thomas Owusu', '5864 - Thomas Owusu', '5874 - 73628 Sergey Cab Corp.', '5997 - 65283 AW Services Inc.', '5997 - AW Services Inc.', '6488 - 83287 Zuha Taxi', '6743 - Luhak Corp', 'Blue Ribbon Taxi Association Inc.', 'C & D Cab Co Inc', 'Chicago Elite Cab Corp.', 'Chicago Elite Cab Corp. (Chicago Carriag', 'Chicago Medallion Leasing INC', 'Chicago Medallion Management', 'Choice Taxi Association', 'Dispatch Taxi Affiliation', 'KOAM Taxi Association', 'Northwest Management LLC', 'Taxi Affiliation Services', 'Top Cab Affiliation'"
      ]
     },
     "metadata": {},
     "output_type": "display_data"
    }
   ],
   "source": [
    "schema = tfdv.infer_schema(train_stats)\n",
    "tfdv.display_schema(schema)"
   ]
  },
  {
   "cell_type": "code",
   "execution_count": 5,
   "metadata": {},
   "outputs": [
    {
     "data": {
      "text/html": [
       "<iframe id='facets-iframe' width=\"100%\" height=\"500px\"></iframe>\n",
       "        <script>\n",
       "        facets_iframe = document.getElementById('facets-iframe');\n",
       "        facets_html = '<script src=\"https://cdnjs.cloudflare.com/ajax/libs/webcomponentsjs/1.3.3/webcomponents-lite.js\"><\\/script><link rel=\"import\" href=\"https://raw.githubusercontent.com/PAIR-code/facets/master/facets-dist/facets-jupyter.html\"><facets-overview proto-input=\"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\"></facets-overview>';\n",
       "        facets_iframe.srcdoc = facets_html;\n",
       "         facets_iframe.id = \"\";\n",
       "         setTimeout(() => {\n",
       "           facets_iframe.setAttribute('height', facets_iframe.contentWindow.document.body.offsetHeight + 'px')\n",
       "         }, 1500)\n",
       "         </script>"
      ],
      "text/plain": [
       "<IPython.core.display.HTML object>"
      ]
     },
     "metadata": {},
     "output_type": "display_data"
    }
   ],
   "source": [
    "eval_stats = tfdv.generate_statistics_from_csv(EVAL_DATA)\n",
    "tfdv.visualize_statistics(eval_stats, train_stats, \n",
    "                          lhs_name='EVAL_DATASET', rhs_name='TRAIN_DATASET')"
   ]
  },
  {
   "cell_type": "code",
   "execution_count": 6,
   "metadata": {},
   "outputs": [
    {
     "data": {
      "text/html": [
       "<div>\n",
       "<style scoped>\n",
       "    .dataframe tbody tr th:only-of-type {\n",
       "        vertical-align: middle;\n",
       "    }\n",
       "\n",
       "    .dataframe tbody tr th {\n",
       "        vertical-align: top;\n",
       "    }\n",
       "\n",
       "    .dataframe thead th {\n",
       "        text-align: right;\n",
       "    }\n",
       "</style>\n",
       "<table border=\"1\" class=\"dataframe\">\n",
       "  <thead>\n",
       "    <tr style=\"text-align: right;\">\n",
       "      <th></th>\n",
       "      <th>Anomaly short description</th>\n",
       "      <th>Anomaly long description</th>\n",
       "    </tr>\n",
       "    <tr>\n",
       "      <th>Feature name</th>\n",
       "      <th></th>\n",
       "      <th></th>\n",
       "    </tr>\n",
       "  </thead>\n",
       "  <tbody>\n",
       "    <tr>\n",
       "      <th>'company'</th>\n",
       "      <td>Unexpected string values</td>\n",
       "      <td>Examples contain values missing from the schema: 2092 - 61288 Sbeih company (&lt;1%), 2192 - 73487 Zeymane Corp (&lt;1%), 2192 - Zeymane Corp (&lt;1%), 2823 - 73307 Seung Lee (&lt;1%), 3094 - 24059 G.L.B. Cab Co (&lt;1%), 3319 - CD Cab Co (&lt;1%), 3385 - Eman Cab (&lt;1%), 3897 - 57856 Ilie Malec (&lt;1%), 4053 - 40193 Adwar H. Nikola (&lt;1%), 4197 - Royal Star (&lt;1%), 585 - 88805 Valley Cab Co (&lt;1%), 5874 - Sergey Cab Corp. (&lt;1%), 6057 - 24657 Richard Addo (&lt;1%), 6574 - Babylon Express Inc. (&lt;1%), 6742 - 83735 Tasha ride inc (&lt;1%).</td>\n",
       "    </tr>\n",
       "    <tr>\n",
       "      <th>'payment_type'</th>\n",
       "      <td>Unexpected string values</td>\n",
       "      <td>Examples contain values missing from the schema: Prcard (&lt;1%).</td>\n",
       "    </tr>\n",
       "  </tbody>\n",
       "</table>\n",
       "</div>"
      ],
      "text/plain": [
       "               Anomaly short description  \\\n",
       "Feature name                               \n",
       "'company'       Unexpected string values   \n",
       "'payment_type'  Unexpected string values   \n",
       "\n",
       "                                                                                                                                                                                                                                                                                                                                                                                                                                                                                                                         Anomaly long description  \n",
       "Feature name                                                                                                                                                                                                                                                                                                                                                                                                                                                                                                                                       \n",
       "'company'       Examples contain values missing from the schema: 2092 - 61288 Sbeih company (<1%), 2192 - 73487 Zeymane Corp (<1%), 2192 - Zeymane Corp (<1%), 2823 - 73307 Seung Lee (<1%), 3094 - 24059 G.L.B. Cab Co (<1%), 3319 - CD Cab Co (<1%), 3385 - Eman Cab (<1%), 3897 - 57856 Ilie Malec (<1%), 4053 - 40193 Adwar H. Nikola (<1%), 4197 - Royal Star (<1%), 585 - 88805 Valley Cab Co (<1%), 5874 - Sergey Cab Corp. (<1%), 6057 - 24657 Richard Addo (<1%), 6574 - Babylon Express Inc. (<1%), 6742 - 83735 Tasha ride inc (<1%).   \n",
       "'payment_type'                                                                                                                                                                                                                                                                                                                                                                                                                                                                    Examples contain values missing from the schema: Prcard (<1%).   "
      ]
     },
     "metadata": {},
     "output_type": "display_data"
    }
   ],
   "source": [
    "anomalies = tfdv.validate_statistics(eval_stats, schema)\n",
    "tfdv.display_anomalies(anomalies)"
   ]
  },
  {
   "cell_type": "code",
   "execution_count": 7,
   "metadata": {},
   "outputs": [
    {
     "data": {
      "text/html": [
       "<h4 style=\"color:green;\">No anomalies found.</h4>"
      ],
      "text/plain": [
       "<IPython.core.display.HTML object>"
      ]
     },
     "metadata": {},
     "output_type": "display_data"
    }
   ],
   "source": [
    "company = tfdv.get_feature(schema, 'company')\n",
    "company.distribution_constraints.min_domain_mass = 0.9\n",
    "\n",
    "payment_type_domain = tfdv.get_domain(schema, 'payment_type')\n",
    "payment_type_domain.value.append('Prcard')\n",
    "\n",
    "updated_anomalies = tfdv.validate_statistics(eval_stats, schema)\n",
    "tfdv.display_anomalies(updated_anomalies)"
   ]
  },
  {
   "cell_type": "code",
   "execution_count": 8,
   "metadata": {},
   "outputs": [
    {
     "data": {
      "text/html": [
       "<div>\n",
       "<style scoped>\n",
       "    .dataframe tbody tr th:only-of-type {\n",
       "        vertical-align: middle;\n",
       "    }\n",
       "\n",
       "    .dataframe tbody tr th {\n",
       "        vertical-align: top;\n",
       "    }\n",
       "\n",
       "    .dataframe thead th {\n",
       "        text-align: right;\n",
       "    }\n",
       "</style>\n",
       "<table border=\"1\" class=\"dataframe\">\n",
       "  <thead>\n",
       "    <tr style=\"text-align: right;\">\n",
       "      <th></th>\n",
       "      <th>Anomaly short description</th>\n",
       "      <th>Anomaly long description</th>\n",
       "    </tr>\n",
       "    <tr>\n",
       "      <th>Feature name</th>\n",
       "      <th></th>\n",
       "      <th></th>\n",
       "    </tr>\n",
       "  </thead>\n",
       "  <tbody>\n",
       "    <tr>\n",
       "      <th>'tips'</th>\n",
       "      <td>Column dropped</td>\n",
       "      <td>Column is completely missing</td>\n",
       "    </tr>\n",
       "  </tbody>\n",
       "</table>\n",
       "</div>"
      ],
      "text/plain": [
       "             Anomaly short description      Anomaly long description\n",
       "Feature name                                                        \n",
       "'tips'                  Column dropped  Column is completely missing"
      ]
     },
     "metadata": {},
     "output_type": "display_data"
    }
   ],
   "source": [
    "serving_stats = tfdv.generate_statistics_from_csv(SERVING_DATA)\n",
    "serving_anomalies = tfdv.validate_statistics(serving_stats, schema)\n",
    "\n",
    "tfdv.display_anomalies(serving_anomalies)"
   ]
  },
  {
   "cell_type": "code",
   "execution_count": 9,
   "metadata": {},
   "outputs": [
    {
     "data": {
      "text/html": [
       "<div>\n",
       "<style scoped>\n",
       "    .dataframe tbody tr th:only-of-type {\n",
       "        vertical-align: middle;\n",
       "    }\n",
       "\n",
       "    .dataframe tbody tr th {\n",
       "        vertical-align: top;\n",
       "    }\n",
       "\n",
       "    .dataframe thead th {\n",
       "        text-align: right;\n",
       "    }\n",
       "</style>\n",
       "<table border=\"1\" class=\"dataframe\">\n",
       "  <thead>\n",
       "    <tr style=\"text-align: right;\">\n",
       "      <th></th>\n",
       "      <th>Anomaly short description</th>\n",
       "      <th>Anomaly long description</th>\n",
       "    </tr>\n",
       "    <tr>\n",
       "      <th>Feature name</th>\n",
       "      <th></th>\n",
       "      <th></th>\n",
       "    </tr>\n",
       "  </thead>\n",
       "  <tbody>\n",
       "    <tr>\n",
       "      <th>'tips'</th>\n",
       "      <td>Column dropped</td>\n",
       "      <td>Column is completely missing</td>\n",
       "    </tr>\n",
       "  </tbody>\n",
       "</table>\n",
       "</div>"
      ],
      "text/plain": [
       "             Anomaly short description      Anomaly long description\n",
       "Feature name                                                        \n",
       "'tips'                  Column dropped  Column is completely missing"
      ]
     },
     "metadata": {},
     "output_type": "display_data"
    }
   ],
   "source": [
    "options = tfdv.StatsOptions(schema=schema, infer_type_from_schema=True)\n",
    "serving_stats = tfdv.generate_statistics_from_csv(SERVING_DATA, stats_options=options)\n",
    "serving_anomalies = tfdv.validate_statistics(serving_stats, schema)\n",
    "\n",
    "tfdv.display_anomalies(serving_anomalies)"
   ]
  },
  {
   "cell_type": "code",
   "execution_count": 10,
   "metadata": {},
   "outputs": [
    {
     "data": {
      "text/html": [
       "<h4 style=\"color:green;\">No anomalies found.</h4>"
      ],
      "text/plain": [
       "<IPython.core.display.HTML object>"
      ]
     },
     "metadata": {},
     "output_type": "display_data"
    }
   ],
   "source": [
    "schema.default_environment.append('TRAINING')\n",
    "schema.default_environment.append('SERVING')\n",
    "\n",
    "tfdv.get_feature(schema, 'tips').not_in_environment.append('SERVING')\n",
    "\n",
    "serving_anomalies = tfdv.validate_statistics(serving_stats, schema, 'SERVING')\n",
    "\n",
    "tfdv.display_anomalies(serving_anomalies)"
   ]
  },
  {
   "cell_type": "code",
   "execution_count": 11,
   "metadata": {},
   "outputs": [
    {
     "data": {
      "text/html": [
       "<div>\n",
       "<style scoped>\n",
       "    .dataframe tbody tr th:only-of-type {\n",
       "        vertical-align: middle;\n",
       "    }\n",
       "\n",
       "    .dataframe tbody tr th {\n",
       "        vertical-align: top;\n",
       "    }\n",
       "\n",
       "    .dataframe thead th {\n",
       "        text-align: right;\n",
       "    }\n",
       "</style>\n",
       "<table border=\"1\" class=\"dataframe\">\n",
       "  <thead>\n",
       "    <tr style=\"text-align: right;\">\n",
       "      <th></th>\n",
       "      <th>Anomaly short description</th>\n",
       "      <th>Anomaly long description</th>\n",
       "    </tr>\n",
       "    <tr>\n",
       "      <th>Feature name</th>\n",
       "      <th></th>\n",
       "      <th></th>\n",
       "    </tr>\n",
       "  </thead>\n",
       "  <tbody>\n",
       "    <tr>\n",
       "      <th>'payment_type'</th>\n",
       "      <td>High Linfty distance between training and serving</td>\n",
       "      <td>The Linfty distance between training and serving is 0.0225 (up to six significant digits), above the threshold 0.01. The feature value with maximum difference is: Credit Card</td>\n",
       "    </tr>\n",
       "    <tr>\n",
       "      <th>'company'</th>\n",
       "      <td>High Linfty distance between current and previous</td>\n",
       "      <td>The Linfty distance between current and previous is 0.00820891 (up to six significant digits), above the threshold 0.001. The feature value with maximum difference is: Blue Ribbon Taxi Association Inc.</td>\n",
       "    </tr>\n",
       "  </tbody>\n",
       "</table>\n",
       "</div>"
      ],
      "text/plain": [
       "                                        Anomaly short description  \\\n",
       "Feature name                                                        \n",
       "'payment_type'  High Linfty distance between training and serving   \n",
       "'company'       High Linfty distance between current and previous   \n",
       "\n",
       "                                                                                                                                                                                                 Anomaly long description  \n",
       "Feature name                                                                                                                                                                                                               \n",
       "'payment_type'                             The Linfty distance between training and serving is 0.0225 (up to six significant digits), above the threshold 0.01. The feature value with maximum difference is: Credit Card  \n",
       "'company'       The Linfty distance between current and previous is 0.00820891 (up to six significant digits), above the threshold 0.001. The feature value with maximum difference is: Blue Ribbon Taxi Association Inc.  "
      ]
     },
     "metadata": {},
     "output_type": "display_data"
    }
   ],
   "source": [
    "payment_type = tfdv.get_feature(schema, 'payment_type')\n",
    "payment_type.skew_comparator.infinity_norm.threshold = 0.01\n",
    "\n",
    "company=tfdv.get_feature(schema, 'company')\n",
    "company.drift_comparator.infinity_norm.threshold = 0.001\n",
    "\n",
    "skew_anomalies = tfdv.validate_statistics(train_stats, schema,\n",
    "                                          previous_statistics=eval_stats,\n",
    "                                          serving_statistics=serving_stats)\n",
    "\n",
    "tfdv.display_anomalies(skew_anomalies)"
   ]
  },
  {
   "cell_type": "code",
   "execution_count": 12,
   "metadata": {},
   "outputs": [],
   "source": [
    "from tensorflow.python.lib.io import file_io\n",
    "\n",
    "file_io.recursive_create_dir(OUTPUT_DIR)\n",
    "schema_file = os.path.join(OUTPUT_DIR, 'schema.pbtxt')\n",
    "tfdv.write_schema_text(schema, schema_file)\n",
    "\n",
    "!code {schema_file}"
   ]
  }
 ],
 "metadata": {
  "kernelspec": {
   "display_name": "mldev",
   "language": "python",
   "name": "python3"
  },
  "language_info": {
   "codemirror_mode": {
    "name": "ipython",
    "version": 3
   },
   "file_extension": ".py",
   "mimetype": "text/x-python",
   "name": "python",
   "nbconvert_exporter": "python",
   "pygments_lexer": "ipython3",
   "version": "3.9.16"
  },
  "orig_nbformat": 4
 },
 "nbformat": 4,
 "nbformat_minor": 2
}
