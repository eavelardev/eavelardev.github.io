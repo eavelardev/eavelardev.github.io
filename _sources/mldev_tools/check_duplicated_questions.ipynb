{
 "cells": [
  {
   "attachments": {},
   "cell_type": "markdown",
   "metadata": {},
   "source": [
    "# Check for duplicated questions"
   ]
  },
  {
   "cell_type": "code",
   "execution_count": 1,
   "metadata": {},
   "outputs": [],
   "source": [
    "import re\n",
    "import json\n",
    "import string"
   ]
  },
  {
   "cell_type": "code",
   "execution_count": 2,
   "metadata": {},
   "outputs": [],
   "source": [
    "punctuation = string.punctuation + '’ '\n",
    "\n",
    "def get_text(q):\n",
    "    items = re.sub('[%s]+' % re.escape(punctuation), ' ', q).lower().strip()\n",
    "    return ''.join(items)"
   ]
  },
  {
   "cell_type": "code",
   "execution_count": 3,
   "metadata": {},
   "outputs": [],
   "source": [
    "with open('../data/ml_questions_tmp.json') as f:\n",
    "    data = json.load(f)"
   ]
  },
  {
   "cell_type": "code",
   "execution_count": 4,
   "metadata": {},
   "outputs": [],
   "source": [
    "ids = []\n",
    "questions = []\n",
    "\n",
    "for source in data.values():\n",
    "    for sub_source in source.values():\n",
    "        for q in sub_source:\n",
    "            q_text = ''\n",
    "            for element in q['body']:\n",
    "                q_text += element if type(element) is str else ' '.join(element) \n",
    "            q_text = get_text(q_text)\n",
    "            ids.append(q['id'])\n",
    "            questions.append(q_text)"
   ]
  },
  {
   "cell_type": "code",
   "execution_count": 5,
   "metadata": {},
   "outputs": [
    {
     "data": {
      "text/plain": [
       "[('google_ml_crash_regularization_simplicity_1',\n",
       "  'google_ml_crash_regularization_sparsity_1')]"
      ]
     },
     "execution_count": 5,
     "metadata": {},
     "output_type": "execute_result"
    }
   ],
   "source": [
    "duplicates = []\n",
    "\n",
    "for i in range(len(questions)):\n",
    "    for j in range(i+1, len(questions)):\n",
    "        if questions[i] == questions[j]:\n",
    "            duplicates.append((ids[i], ids[j]))\n",
    "\n",
    "duplicates"
   ]
  }
 ],
 "metadata": {
  "kernelspec": {
   "display_name": "mldev",
   "language": "python",
   "name": "python3"
  },
  "language_info": {
   "codemirror_mode": {
    "name": "ipython",
    "version": 3
   },
   "file_extension": ".py",
   "mimetype": "text/x-python",
   "name": "python",
   "nbconvert_exporter": "python",
   "pygments_lexer": "ipython3",
   "version": "3.9.16"
  },
  "orig_nbformat": 4
 },
 "nbformat": 4,
 "nbformat_minor": 2
}
