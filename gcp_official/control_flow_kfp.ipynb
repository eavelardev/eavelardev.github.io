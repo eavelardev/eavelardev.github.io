{
 "cells": [
  {
   "attachments": {},
   "cell_type": "markdown",
   "metadata": {},
   "source": [
    "# Vertex AI Pipelines: pipeline control structures using the KFP SDK"
   ]
  },
  {
   "attachments": {},
   "cell_type": "markdown",
   "metadata": {},
   "source": [
    "[[github](https://github.com/GoogleCloudPlatform/vertex-ai-samples/blob/main/notebooks/official/pipelines/control_flow_kfp.ipynb) - 8b01919]"
   ]
  },
  {
   "cell_type": "code",
   "execution_count": null,
   "metadata": {},
   "outputs": [],
   "source": [
    "import json\n",
    "\n",
    "import google.cloud.aiplatform as aip\n",
    "import kfp\n",
    "from kfp import dsl\n",
    "from kfp.v2.dsl import component"
   ]
  },
  {
   "attachments": {},
   "cell_type": "markdown",
   "metadata": {},
   "source": [
    "## Define pipeline"
   ]
  },
  {
   "cell_type": "code",
   "execution_count": null,
   "metadata": {},
   "outputs": [],
   "source": [
    "@component\n",
    "def args_generator_op() -> str:\n",
    "    import json\n",
    "\n",
    "    return json.dumps(\n",
    "        [{\"cats\": \"1\", \"dogs\": \"2\"}, {\"cats\": \"10\", \"dogs\": \"20\"}],\n",
    "        sort_keys=True\n",
    "    )\n",
    "\n",
    "@component\n",
    "def print_op(msg: str):\n",
    "    print(msg)\n",
    "\n",
    "@component\n",
    "def flip_coin_op() -> str:\n",
    "    import random\n",
    "\n",
    "    result = \"heads\" if random.randint(0, 1) == 0 else \"tails\"\n",
    "    return result\n",
    "\n",
    "@dsl.pipeline(name=\"control\")\n",
    "def pipeline(\n",
    "    json_string: str = json.dumps(\n",
    "        [\n",
    "            {\n",
    "                \"snakes\": \"anaconda\",\n",
    "                \"lizards\": \"anole\",\n",
    "                \"bunnies\": [{\"cottontail\": \"bugs\"}, {\"cottontail\": \"thumper\"}],\n",
    "            },\n",
    "            {\n",
    "                \"snakes\": \"cobra\",\n",
    "                \"lizards\": \"gecko\",\n",
    "                \"bunnies\": [{\"cottontail\": \"roger\"}],\n",
    "            },\n",
    "            {\n",
    "                \"snakes\": \"boa\",\n",
    "                \"lizards\": \"iguana\",\n",
    "                \"bunnies\": [\n",
    "                    {\"cottontail\": \"fluffy\"},\n",
    "                    {\"fuzzy_lop\": \"petunia\", \"cottontail\": \"peter\"},\n",
    "                ],\n",
    "            },\n",
    "        ],\n",
    "        sort_keys=True,\n",
    "    )\n",
    "):\n",
    "    flip1 = flip_coin_op()\n",
    "\n",
    "    with dsl.Condition(flip1.output != \"no-such-result\", name=\"alwaystrue\"):  # always true\n",
    "        args_generator = args_generator_op()\n",
    "\n",
    "        with dsl.ParallelFor(args_generator.output) as item:\n",
    "            with dsl.Condition(flip1.output == \"heads\", name=\"heads\"):\n",
    "                print_op(item.cats)\n",
    "\n",
    "            with dsl.Condition(flip1.output == \"tails\", name=\"tails\"):\n",
    "                print_op(item.dogs)\n",
    "\n",
    "    with dsl.ParallelFor(json_string) as item:\n",
    "        with dsl.Condition(item.snakes == \"boa\", name=\"snakes\"):\n",
    "            print_op(item.snakes)\n",
    "            print_op(item.lizards)\n",
    "            print_op(item.bunnies)\n",
    "\n",
    "    # with dsl.ParallelFor(json_string) as item:\n",
    "    #     with dsl.ParallelFor(item.bunnies) as item_bunnies:\n",
    "    #         print_op(item_bunnies.cottontail)"
   ]
  },
  {
   "attachments": {},
   "cell_type": "markdown",
   "metadata": {},
   "source": [
    "## Run the pipeline locally"
   ]
  },
  {
   "cell_type": "code",
   "execution_count": null,
   "metadata": {},
   "outputs": [],
   "source": [
    "kfp_endpoint = \"http://localhost:8080/pipeline\"\n",
    "\n",
    "kfp.Client(host=kfp_endpoint).create_run_from_pipeline_func(\n",
    "    pipeline,\n",
    "    arguments={},\n",
    "    mode=kfp.dsl.PipelineExecutionMode.V2_COMPATIBLE,\n",
    "    enable_caching=False)"
   ]
  }
 ],
 "metadata": {
  "kernelspec": {
   "display_name": "mldev",
   "language": "python",
   "name": "python3"
  },
  "language_info": {
   "codemirror_mode": {
    "name": "ipython",
    "version": 3
   },
   "file_extension": ".py",
   "mimetype": "text/x-python",
   "name": "python",
   "nbconvert_exporter": "python",
   "pygments_lexer": "ipython3",
   "version": "3.9.16"
  },
  "orig_nbformat": 4
 },
 "nbformat": 4,
 "nbformat_minor": 2
}
