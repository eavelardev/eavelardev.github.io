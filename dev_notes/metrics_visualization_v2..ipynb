{
 "cells": [
  {
   "attachments": {},
   "cell_type": "markdown",
   "metadata": {},
   "source": [
    "# Kubeflow metrics visualization"
   ]
  },
  {
   "attachments": {},
   "cell_type": "markdown",
   "metadata": {},
   "source": [
    "* https://github.com/kubeflow/pipelines/blob/master/samples/test/metrics_visualization_v2.py"
   ]
  },
  {
   "cell_type": "code",
   "execution_count": null,
   "metadata": {},
   "outputs": [],
   "source": [
    "import os\n",
    "\n",
    "from kfp import dsl\n",
    "from kfp.dsl import component, Output, ClassificationMetrics, Metrics"
   ]
  },
  {
   "attachments": {},
   "cell_type": "markdown",
   "metadata": {},
   "source": [
    "## Define components"
   ]
  },
  {
   "cell_type": "code",
   "execution_count": null,
   "metadata": {},
   "outputs": [],
   "source": [
    "@component(\n",
    "    packages_to_install=['scikit-learn'],\n",
    "    base_image='python:3.9'\n",
    ")\n",
    "def digit_classification(metrics: Output[Metrics]):\n",
    "    from sklearn import model_selection\n",
    "    from sklearn.linear_model import LogisticRegression\n",
    "    from sklearn import datasets\n",
    "    from sklearn.metrics import accuracy_score\n",
    "\n",
    "    # Load digits dataset\n",
    "    iris = datasets.load_iris()\n",
    "\n",
    "    # # Create feature matrix\n",
    "    X = iris.data\n",
    "\n",
    "    # Create target vector\n",
    "    y = iris.target\n",
    "\n",
    "    #test size\n",
    "    test_size = 0.33\n",
    "\n",
    "    seed = 7\n",
    "    #cross-validation settings\n",
    "    kfold = model_selection.KFold(n_splits=10, random_state=seed, shuffle=True)\n",
    "\n",
    "    #Model instance\n",
    "    model = LogisticRegression()\n",
    "    scoring = 'accuracy'\n",
    "    results = model_selection.cross_val_score(\n",
    "        model, X, y, cv=kfold, scoring=scoring)\n",
    "\n",
    "    #split data\n",
    "    X_train, X_test, y_train, y_test = model_selection.train_test_split(\n",
    "        X, y, test_size=test_size, random_state=seed)\n",
    "    #fit model\n",
    "    model.fit(X_train, y_train)\n",
    "\n",
    "    #accuracy on test set\n",
    "    result = model.score(X_test, y_test)\n",
    "    metrics.log_metric('accuracy', (result * 100.0))\n",
    "\n",
    "\n",
    "@component(\n",
    "    packages_to_install=['scikit-learn'],\n",
    "    base_image='python:3.9'\n",
    ")\n",
    "def wine_classification(metrics: Output[ClassificationMetrics]):\n",
    "    from sklearn.ensemble import RandomForestClassifier\n",
    "    from sklearn.metrics import roc_curve\n",
    "    from sklearn.datasets import load_wine\n",
    "    from sklearn.model_selection import train_test_split, cross_val_predict\n",
    "\n",
    "    X, y = load_wine(return_X_y=True)\n",
    "    # Binary classification problem for label 1.\n",
    "    y = y == 1\n",
    "\n",
    "    X_train, X_test, y_train, y_test = train_test_split(X, y, random_state=42)\n",
    "    rfc = RandomForestClassifier(n_estimators=10, random_state=42)\n",
    "    rfc.fit(X_train, y_train)\n",
    "    y_scores = cross_val_predict(\n",
    "        rfc, X_train, y_train, cv=3, method='predict_proba')\n",
    "    y_predict = cross_val_predict(rfc, X_train, y_train, cv=3, method='predict')\n",
    "    fpr, tpr, thresholds = roc_curve(\n",
    "        y_true=y_train, y_score=y_scores[:, 1], pos_label=True)\n",
    "    metrics.log_roc_curve(fpr, tpr, thresholds)\n",
    "\n",
    "\n",
    "@component(\n",
    "    packages_to_install=['scikit-learn'],\n",
    "    base_image='python:3.9'\n",
    ")\n",
    "def iris_sgdclassifier(test_samples_fraction: float,\n",
    "                       metrics: Output[ClassificationMetrics]):\n",
    "    from sklearn import datasets, model_selection\n",
    "    from sklearn.linear_model import SGDClassifier\n",
    "    from sklearn.metrics import confusion_matrix\n",
    "\n",
    "    iris_dataset = datasets.load_iris()\n",
    "    train_x, test_x, train_y, test_y = model_selection.train_test_split(\n",
    "        iris_dataset['data'],\n",
    "        iris_dataset['target'],\n",
    "        test_size=test_samples_fraction)\n",
    "\n",
    "    classifier = SGDClassifier()\n",
    "    classifier.fit(train_x, train_y)\n",
    "    predictions = model_selection.cross_val_predict(\n",
    "        classifier, train_x, train_y, cv=3)\n",
    "    metrics.log_confusion_matrix(\n",
    "        ['Setosa', 'Versicolour', 'Virginica'],\n",
    "        confusion_matrix(\n",
    "            train_y,\n",
    "            predictions).tolist()  # .tolist() to convert np array to list.\n",
    "    )"
   ]
  },
  {
   "cell_type": "code",
   "execution_count": null,
   "metadata": {},
   "outputs": [],
   "source": [
    "@dsl.pipeline(name='metrics-visualization-pipeline')\n",
    "def metrics_visualization_pipeline():\n",
    "    wine_classification_op = wine_classification()\n",
    "    iris_sgdclassifier_op = iris_sgdclassifier(test_samples_fraction=0.3)\n",
    "    digit_classification_op = digit_classification()"
   ]
  }
 ],
 "metadata": {
  "kernelspec": {
   "display_name": "mldev",
   "language": "python",
   "name": "python3"
  },
  "language_info": {
   "name": "python",
   "version": "3.9.16"
  },
  "orig_nbformat": 4
 },
 "nbformat": 4,
 "nbformat_minor": 2
}
