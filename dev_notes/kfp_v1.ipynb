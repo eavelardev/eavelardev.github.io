{
 "cells": [
  {
   "cell_type": "markdown",
   "metadata": {},
   "source": [
    "# Kubeflow Pipelines v1 sdk v2 examples"
   ]
  },
  {
   "cell_type": "code",
   "execution_count": null,
   "metadata": {},
   "outputs": [],
   "source": [
    "import kfp\n",
    "import kfp.dsl as dsl\n",
    "from kfp.v2.dsl import component"
   ]
  },
  {
   "cell_type": "code",
   "execution_count": null,
   "metadata": {},
   "outputs": [],
   "source": [
    "kfp_endpoint = \"http://localhost:8080/pipeline\""
   ]
  },
  {
   "attachments": {},
   "cell_type": "markdown",
   "metadata": {},
   "source": [
    "## Building Python Function-based Components\n",
    "\n",
    "[Getting started with Python function-based components](https://www.kubeflow.org/docs/components/pipelines/v1/sdk-v2/python-function-components/#getting-started-with-python-function-based-components)"
   ]
  },
  {
   "cell_type": "code",
   "execution_count": null,
   "metadata": {},
   "outputs": [],
   "source": [
    "@component\n",
    "def add(a: float, b: float) -> float:\n",
    "    return a + b\n",
    "\n",
    "@dsl.pipeline(\n",
    "    name='addition-pipeline',\n",
    "    description='An example pipeline that performs addition calculations.'\n",
    ")\n",
    "def add_pipeline(a: float=1, b: float=7):\n",
    "    first_add_task = add(a, 4)\n",
    "    second_add_task = add(first_add_task.output, b)\n",
    "\n",
    "arguments = {'a': 7, 'b': 8}\n",
    "\n",
    "kfp.Client(host=kfp_endpoint).create_run_from_pipeline_func(\n",
    "    add_pipeline,\n",
    "    arguments=arguments,\n",
    "    mode=kfp.dsl.PipelineExecutionMode.V2_COMPATIBLE)"
   ]
  },
  {
   "cell_type": "markdown",
   "metadata": {},
   "source": [
    "[Example Python function-based component](https://www.kubeflow.org/docs/components/pipelines/v1/sdk-v2/python-function-components/#example-python-function-based-component)"
   ]
  },
  {
   "cell_type": "code",
   "execution_count": null,
   "metadata": {},
   "outputs": [],
   "source": [
    "from typing import NamedTuple\n",
    "from kfp.v2.dsl import component, Output, Metrics"
   ]
  },
  {
   "cell_type": "code",
   "execution_count": null,
   "metadata": {},
   "outputs": [],
   "source": [
    "@component\n",
    "def add(a: float, b: float) -> float:\n",
    "    return a + b\n",
    "\n",
    "@component(packages_to_install=['numpy'])\n",
    "def my_divmod(dividend: float, divisor: float, metrics: Output[Metrics]) -> NamedTuple(\n",
    "        'MyDivmodOutput', [('quotient', float), ('remainder', float)]):\n",
    "    \n",
    "    '''Divides two numbers and calculate the quotient and remainder'''\n",
    "\n",
    "    import numpy as np\n",
    "\n",
    "    # Define a helper function\n",
    "    def divmod_helper(dividend, divisor):\n",
    "        return np.divmod(dividend, divisor)\n",
    "\n",
    "    (quotient, remainder) = divmod_helper(dividend, divisor)\n",
    "\n",
    "    # Export two metrics\n",
    "    metrics.log_metric('quotient', float(quotient))\n",
    "    metrics.log_metric('remainder', float(remainder))\n",
    "\n",
    "    from collections import namedtuple\n",
    "    divmod_output = namedtuple('MyDivmodOutput',\n",
    "        ['quotient', 'remainder'])\n",
    "    \n",
    "    return divmod_output(quotient, remainder)\n",
    "\n",
    "@dsl.pipeline(\n",
    "   name='calculation-pipeline',\n",
    "   description='An example pipeline that performs arithmetic calculations.'\n",
    ")\n",
    "def calc_pipeline(a: float=1, b: float=7, c: float=17):\n",
    "    add_task = add(a, 4)\n",
    "    divmod_task = my_divmod(add_task.output, b)\n",
    "    result_task = add(divmod_task.outputs['quotient'], c)\n",
    "\n",
    "arguments = {'a': 7, 'b': 8}\n",
    "\n",
    "kfp.Client(host=kfp_endpoint).create_run_from_pipeline_func(\n",
    "    calc_pipeline,\n",
    "    arguments=arguments,\n",
    "    mode=kfp.dsl.PipelineExecutionMode.V2_COMPATIBLE)"
   ]
  }
 ],
 "metadata": {
  "kernelspec": {
   "display_name": "kfp_v1",
   "language": "python",
   "name": "python3"
  },
  "language_info": {
   "codemirror_mode": {
    "name": "ipython",
    "version": 3
   },
   "file_extension": ".py",
   "mimetype": "text/x-python",
   "name": "python",
   "nbconvert_exporter": "python",
   "pygments_lexer": "ipython3",
   "version": "3.10.9"
  },
  "orig_nbformat": 4
 },
 "nbformat": 4,
 "nbformat_minor": 2
}
