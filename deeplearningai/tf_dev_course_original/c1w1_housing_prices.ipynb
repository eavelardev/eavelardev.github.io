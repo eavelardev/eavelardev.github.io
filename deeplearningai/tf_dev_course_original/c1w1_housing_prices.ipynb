{
 "cells": [
  {
   "attachments": {},
   "cell_type": "markdown",
   "metadata": {},
   "source": [
    "# C1W1 Assignment: Housing Prices"
   ]
  },
  {
   "attachments": {},
   "cell_type": "markdown",
   "metadata": {},
   "source": [
    "* https-deeplearning-ai/**tensorflow-1-public**/C1/W1/assignment/[C1W1_Assignment.ipynb](https://github.com/https-deeplearning-ai/tensorflow-1-public/blob/main/C1/W1/assignment/C1W1_Assignment.ipynb)\n",
    "* Commit `f16e408` on May 3, 2022, [Compare](https://github.com/https-deeplearning-ai/tensorflow-1-public/compare/f16e408..)"
   ]
  },
  {
   "cell_type": "markdown",
   "metadata": {},
   "source": [
    "* base cost 50k\n",
    "* 50k each bedroom\n",
    "* 1 bedroom 100k\n",
    "* scale 100,000 to 1"
   ]
  },
  {
   "cell_type": "code",
   "execution_count": null,
   "metadata": {},
   "outputs": [],
   "source": [
    "import tensorflow as tf\n",
    "import numpy as np"
   ]
  },
  {
   "cell_type": "code",
   "execution_count": 2,
   "metadata": {},
   "outputs": [],
   "source": [
    "def house_model():\n",
    "\n",
    "    xs = np.arange(1, 7)\n",
    "    ys = 0.5 * xs + 0.5\n",
    "    \n",
    "    model = tf.keras.Sequential([\n",
    "        tf.keras.layers.Dense(1, input_shape=(1,))])\n",
    "\n",
    "    model.compile(optimizer='sgd', loss='mse')\n",
    "    \n",
    "    model.fit(xs, ys, epochs=1000)\n",
    "    \n",
    "    return model"
   ]
  },
  {
   "cell_type": "code",
   "execution_count": null,
   "metadata": {},
   "outputs": [],
   "source": [
    "model = house_model()"
   ]
  },
  {
   "cell_type": "code",
   "execution_count": 4,
   "metadata": {},
   "outputs": [
    {
     "name": "stdout",
     "output_type": "stream",
     "text": [
      "1/1 [==============================] - 0s 92ms/step\n",
      "[4.008728]\n"
     ]
    }
   ],
   "source": [
    "new_y = 7.0\n",
    "prediction = model.predict([new_y])[0]\n",
    "print(prediction)"
   ]
  }
 ],
 "metadata": {
  "kernelspec": {
   "display_name": "mldev",
   "language": "python",
   "name": "python3"
  },
  "language_info": {
   "codemirror_mode": {
    "name": "ipython",
    "version": 3
   },
   "file_extension": ".py",
   "mimetype": "text/x-python",
   "name": "python",
   "nbconvert_exporter": "python",
   "pygments_lexer": "ipython3",
   "version": "3.8.16"
  },
  "orig_nbformat": 4
 },
 "nbformat": 4,
 "nbformat_minor": 2
}
