{
 "cells": [
  {
   "attachments": {},
   "cell_type": "markdown",
   "metadata": {},
   "source": [
    "# GCP Skills Boost Updates"
   ]
  },
  {
   "cell_type": "code",
   "execution_count": null,
   "metadata": {},
   "outputs": [],
   "source": [
    "from bs4 import BeautifulSoup\n",
    "import requests\n",
    "import shutil\n",
    "import multiprocessing\n",
    "import pandas as pd\n",
    "import datetime\n",
    "import os\n",
    "import math\n",
    "import json"
   ]
  },
  {
   "attachments": {},
   "cell_type": "markdown",
   "metadata": {},
   "source": [
    "## Get html elements"
   ]
  },
  {
   "cell_type": "code",
   "execution_count": null,
   "metadata": {},
   "outputs": [],
   "source": [
    "url_base = 'https://www.cloudskillsboost.google'\n",
    "url_catalog = f'{url_base}/catalog'\n",
    "file_name = 'gcp_resources'"
   ]
  },
  {
   "cell_type": "code",
   "execution_count": null,
   "metadata": {},
   "outputs": [],
   "source": [
    "html = requests.get(url_catalog).text\n",
    "soup = BeautifulSoup(html, 'html.parser')\n",
    "num_resources = int(soup.find('p', attrs={'class': 'ql-body-2'}).string.split()[0])\n",
    "num_pages = math.ceil(num_resources/10)\n",
    "\n",
    "print(f'{num_resources} resources')"
   ]
  },
  {
   "cell_type": "code",
   "execution_count": null,
   "metadata": {},
   "outputs": [],
   "source": [
    "def get_urls():\n",
    "    for i in range(num_pages):\n",
    "        yield f'{url_catalog}?page={i+1}'\n",
    "        \n",
    "def get_format(element):\n",
    "    return element.div.h3.a['data-type']\n",
    "\n",
    "def get_name(element):\n",
    "    return element.div.h3.a.text\n",
    "\n",
    "def get_link(element):\n",
    "    id = element.div.h3.a['href'].split('?')[0][1:]\n",
    "    link = f'{url_base}/{id}'\n",
    "\n",
    "    if id.startswith('focuses'):\n",
    "        link += '?parent=catalog'\n",
    "\n",
    "    return link\n",
    "\n",
    "def get_description(element):\n",
    "    return element.p.text.strip()\n",
    "\n",
    "def get_level(element):\n",
    "    tag = element.footer.find('div', 'catalog-item-level')\n",
    "    level = tag.text.strip() if tag else ''\n",
    "\n",
    "    return level\n",
    "\n",
    "def get_credits(element):\n",
    "    tag = element.footer.find('div', 'catalog-item-cost')\n",
    "    tag_text = tag.text.strip()\n",
    "    credits = int(tag_text.split()[0]) if tag_text != 'Free' else 0\n",
    "\n",
    "    return credits\n",
    "\n",
    "# status: development\n",
    "def get_duration(element):\n",
    "    duration = None\n",
    "    duration_tag = element.footer.find('div', 'catalog-item-duration')\n",
    "    if duration_tag:\n",
    "        tokens = duration_tag.text.strip()\n",
    "        if tokens == 4:\n",
    "            hours = tokens[0]\n",
    "            minutes = tokens[2]\n",
    "        elif tokens == 2:\n",
    "            duration_str, unit = tokens\n",
    "            duration = int(duration_str)\n",
    "\n",
    "            if unit == 'Hours':\n",
    "                duration *= 60\n",
    "            elif unit == 'day':\n",
    "                duration *= 1440"
   ]
  },
  {
   "cell_type": "code",
   "execution_count": null,
   "metadata": {},
   "outputs": [],
   "source": [
    "def get_elements(url):\n",
    "    html = requests.get(url).text\n",
    "    soup = BeautifulSoup(html)\n",
    "    elements = soup.find_all('li', 'catalog__list__item')\n",
    "\n",
    "    for element in elements:\n",
    "        data = {\n",
    "            'format':       get_format(element),\n",
    "            'name':         get_name(element),\n",
    "            'link':         get_link(element),\n",
    "            'description':  get_description(element),\n",
    "            'credits':      get_credits(element),\n",
    "            'level':        get_level(element)\n",
    "        }\n",
    "\n",
    "        with open(file_name, 'a') as f:\n",
    "            f.write(json.dumps(data) + ',')\n",
    "\n",
    "with multiprocessing.Pool(multiprocessing.cpu_count()) as p:\n",
    "    p.map(get_elements, get_urls())"
   ]
  },
  {
   "attachments": {},
   "cell_type": "markdown",
   "metadata": {},
   "source": [
    "## Load data "
   ]
  },
  {
   "cell_type": "code",
   "execution_count": null,
   "metadata": {},
   "outputs": [],
   "source": [
    "with open(file_name) as f:\n",
    "    raw_data = f.read()\n",
    "\n",
    "os.remove(file_name)"
   ]
  },
  {
   "cell_type": "code",
   "execution_count": null,
   "metadata": {},
   "outputs": [],
   "source": [
    "data = json.loads(f'[{raw_data[:-1]}]')\n",
    "actual_data = pd.DataFrame(data)\n",
    "print(f'{len(actual_data)} resources')\n",
    "\n",
    "assert num_resources == len(actual_data)"
   ]
  },
  {
   "cell_type": "code",
   "execution_count": null,
   "metadata": {},
   "outputs": [],
   "source": [
    "last_data_file = '../data/gcp_resources_chkp_230620.json'\n",
    "last_data = pd.read_json(last_data_file, orient='split')"
   ]
  },
  {
   "attachments": {},
   "cell_type": "markdown",
   "metadata": {},
   "source": [
    "## Preprocessing"
   ]
  },
  {
   "cell_type": "code",
   "execution_count": null,
   "metadata": {},
   "outputs": [],
   "source": [
    "actual_data[actual_data.duplicated()][['format', 'name']]"
   ]
  },
  {
   "cell_type": "code",
   "execution_count": null,
   "metadata": {},
   "outputs": [],
   "source": [
    "actual_data.drop_duplicates(inplace=True)\n",
    "\n",
    "print(f'{len(actual_data)} resources')"
   ]
  },
  {
   "cell_type": "code",
   "execution_count": null,
   "metadata": {},
   "outputs": [],
   "source": [
    "actual_data = actual_data[~actual_data['name'].str.endswith('Locales')]\n",
    "actual_data = actual_data.sort_values(by=['format','name', 'link'])\n",
    "\n",
    "print(f'{len(actual_data)} resources')"
   ]
  },
  {
   "attachments": {},
   "cell_type": "markdown",
   "metadata": {},
   "source": [
    "## Save actual data"
   ]
  },
  {
   "cell_type": "code",
   "execution_count": null,
   "metadata": {},
   "outputs": [],
   "source": [
    "timestamp = datetime.datetime.now().strftime('%y%m%d')\n",
    "\n",
    "shutil.copy(last_data_file, f'{last_data_file}_tmp')\n",
    "new_file_name = f'{file_name}_chkp_{timestamp}.json'\n",
    "actual_data.to_json(f'../data/{new_file_name}', indent=4, orient='split', index=False)\n",
    "print(f'{new_file_name} created!')"
   ]
  },
  {
   "attachments": {},
   "cell_type": "markdown",
   "metadata": {},
   "source": [
    "## Comparison"
   ]
  },
  {
   "cell_type": "code",
   "execution_count": null,
   "metadata": {},
   "outputs": [],
   "source": [
    "last_data['df'] = 'last'\n",
    "actual_data['df'] = 'actual'\n",
    "\n",
    "updates = pd.concat([last_data, actual_data])\n",
    "updates['status'] = 'same'\n",
    "\n",
    "same_names = updates.duplicated(keep=False, subset=['format', 'name'])\n",
    "same_links = updates.duplicated(keep=False, subset=['link'])\n",
    "last_df = updates['df'] == 'last'\n",
    "actual_df = updates['df'] == 'actual'\n",
    "\n",
    "updates.loc[last_df   & ~same_links, 'status'] = 'removed'\n",
    "updates.loc[actual_df & ~same_links, 'status'] = 'new'\n",
    "updates.loc[actual_df & ~same_links & same_names, 'status'] = 'new_same_name'\n",
    "updates.loc[last_df   & same_links & ~same_names, 'status'] = 'old_name'\n",
    "updates.loc[actual_df & same_links & ~same_names, 'status'] = 'new_name'\n",
    "\n",
    "updates = updates[updates['status'] != 'same'].sort_values(by=['format', 'status', 'name'])\n",
    "\n",
    "cols = ['format', 'name', 'status', 'link']\n",
    "\n",
    "updates['link'] = updates['link'].apply(\n",
    "    lambda x: f'<a href=\"{x}\" target=\"_blank\">link</a>')\n",
    "\n",
    "updates[cols].style.format()"
   ]
  },
  {
   "cell_type": "code",
   "execution_count": null,
   "metadata": {},
   "outputs": [],
   "source": [
    "# Remove temporal Trivia resources\n",
    "updates = updates[~updates['name'].str.contains('Trivia')]"
   ]
  },
  {
   "cell_type": "code",
   "execution_count": null,
   "metadata": {},
   "outputs": [],
   "source": [
    "# Copy markdown to clipboard. \n",
    "# Add to the Changelog.\n",
    "pd.io.clipboards.to_clipboard(updates[cols].to_markdown(index=False), excel=False)\n",
    "print(f'timestamp: {timestamp}')"
   ]
  },
  {
   "attachments": {},
   "cell_type": "markdown",
   "metadata": {},
   "source": [
    "## Changelog"
   ]
  },
  {
   "attachments": {},
   "cell_type": "markdown",
   "metadata": {},
   "source": [
    "### 230620\n",
    "\n",
    "| format   | name                                                                      | status   | link                                                                                                |\n",
    "|:---------|:--------------------------------------------------------------------------|:---------|:----------------------------------------------------------------------------------------------------|\n",
    "| Course   | Developing Applications with Cloud Run on Google Cloud: Fundamentals      | new      | <a href=\"https://www.cloudskillsboost.google/course_templates/559\" target=\"_blank\">link</a>         |\n",
    "| Course   | MySQL to Cloud Spanner                                                    | new      | <a href=\"https://www.cloudskillsboost.google/course_templates/560\" target=\"_blank\">link</a>         |\n",
    "| Lab      | Enhancing Network Security Approach on Google Cloud                       | new      | <a href=\"https://www.cloudskillsboost.google/focuses/57194?parent=catalog\" target=\"_blank\">link</a> |\n",
    "| Lab      | Managing Google Classroom                                                 | new      | <a href=\"https://www.cloudskillsboost.google/focuses/27154?parent=catalog\" target=\"_blank\">link</a> |\n",
    "| Lab      | Networking Fundamentals on Google Cloud: Challenge Lab                    | new      | <a href=\"https://www.cloudskillsboost.google/focuses/65382?parent=catalog\" target=\"_blank\">link</a> |\n",
    "| Lab      | The Basics of Google Cloud Compute: Challenge Lab                         | new      | <a href=\"https://www.cloudskillsboost.google/focuses/65384?parent=catalog\" target=\"_blank\">link</a> |\n",
    "| Lab      | Use APIs to Work with Cloud Storage: Challenge Lab                        | new      | <a href=\"https://www.cloudskillsboost.google/focuses/65991?parent=catalog\" target=\"_blank\">link</a> |\n",
    "| Lab      | Using the Google Cloud Speech API: Challenge Lab                          | new      | <a href=\"https://www.cloudskillsboost.google/focuses/65993?parent=catalog\" target=\"_blank\">link</a> |\n",
    "| Lab      | Build and Deploy Machine Learning Solutions with Vertex AI: Challenge Lab | removed  | <a href=\"https://www.cloudskillsboost.google/focuses/22019?parent=catalog\" target=\"_blank\">link</a> |\n",
    "| Lab      | Google Workspace Admin: Managing Google Meet                              | removed  | <a href=\"https://www.cloudskillsboost.google/focuses/18361?parent=catalog\" target=\"_blank\">link</a> |\n",
    "| Lab      | Scaling VM-Series to Secure Google Cloud Networks                         | removed  | <a href=\"https://www.cloudskillsboost.google/focuses/57544?parent=catalog\" target=\"_blank\">link</a> |\n",
    "| Lab      | Using Cloud Trace on Kubernetes Engine                                    | removed  | <a href=\"https://www.cloudskillsboost.google/focuses/5159?parent=catalog\" target=\"_blank\">link</a>  |\n",
    "| Quest    | Networking Fundamentals on Google Cloud                                   | new      | <a href=\"https://www.cloudskillsboost.google/quests/318\" target=\"_blank\">link</a>                   |\n",
    "| Quest    | The Basics of Google Cloud Compute                                        | new      | <a href=\"https://www.cloudskillsboost.google/quests/319\" target=\"_blank\">link</a>                   |\n",
    "| Quest    | Use APIs to Work with Cloud Storage                                       | new      | <a href=\"https://www.cloudskillsboost.google/quests/321\" target=\"_blank\">link</a>                   |\n",
    "| Quest    | Using the Google Cloud Speech API                                         | new      | <a href=\"https://www.cloudskillsboost.google/quests/320\" target=\"_blank\">link</a>                   |"
   ]
  },
  {
   "attachments": {},
   "cell_type": "markdown",
   "metadata": {},
   "source": [
    "### 230607\n",
    "\n",
    "| format   | name                                                                    | status   | link                                                                                                |\n",
    "|:---------|:------------------------------------------------------------------------|:---------|:----------------------------------------------------------------------------------------------------|\n",
    "| Course   | Generative AI Fundamentals                                              | new      | <a href=\"https://www.cloudskillsboost.google/course_templates/556\" target=\"_blank\">link</a>         |\n",
    "| Lab      | API Gateway: Qwik Start                                                 | new      | <a href=\"https://www.cloudskillsboost.google/focuses/17996?parent=catalog\" target=\"_blank\">link</a> |\n",
    "| Lab      | Configure Your Workplace: Google Workspace for IT Admins: Challenge Lab | new      | <a href=\"https://www.cloudskillsboost.google/focuses/40783?parent=catalog\" target=\"_blank\">link</a> |\n",
    "| Lab      | Google Workspace Admin: Getting Started                                 | new      | <a href=\"https://www.cloudskillsboost.google/focuses/16418?parent=catalog\" target=\"_blank\">link</a> |\n",
    "| Lab      | Google Workspace Admin: Managing Applications                           | new      | <a href=\"https://www.cloudskillsboost.google/focuses/18332?parent=catalog\" target=\"_blank\">link</a> |\n",
    "| Lab      | Google Workspace Admin: Managing Google Meet                            | new      | <a href=\"https://www.cloudskillsboost.google/focuses/18361?parent=catalog\" target=\"_blank\">link</a> |\n",
    "| Lab      | Google Workspace Admin: Provisioning                                    | new      | <a href=\"https://www.cloudskillsboost.google/focuses/18119?parent=catalog\" target=\"_blank\">link</a> |\n",
    "| Lab      | Google Workspace Admin: Securing                                        | new      | <a href=\"https://www.cloudskillsboost.google/focuses/18333?parent=catalog\" target=\"_blank\">link</a> |\n",
    "| Lab      | Google Workspace Admin: Super Admin Account Recovery                    | new      | <a href=\"https://www.cloudskillsboost.google/focuses/20114?parent=catalog\" target=\"_blank\">link</a> |\n",
    "| Lab      | Google Workspace for Education: Challenge Lab                           | new      | <a href=\"https://www.cloudskillsboost.google/focuses/29794?parent=catalog\" target=\"_blank\">link</a> |\n",
    "| Lab      | Google Workspace for Education: Getting Started                         | new      | <a href=\"https://www.cloudskillsboost.google/focuses/25706?parent=catalog\" target=\"_blank\">link</a> |\n",
    "| Lab      | Google Workspace for Education: Managing Services                       | new      | <a href=\"https://www.cloudskillsboost.google/focuses/28383?parent=catalog\" target=\"_blank\">link</a> |\n",
    "| Lab      | Setting Up Google Meet for Distance Learning                            | new      | <a href=\"https://www.cloudskillsboost.google/focuses/27159?parent=catalog\" target=\"_blank\">link</a> |\n",
    "| Lab      | Shared Drives: Getting Started                                          | new      | <a href=\"https://www.cloudskillsboost.google/focuses/5829?parent=catalog\" target=\"_blank\">link</a>  |\n",
    "| Lab      | Teaching with Google Classroom                                          | new      | <a href=\"https://www.cloudskillsboost.google/focuses/25896?parent=catalog\" target=\"_blank\">link</a> |\n",
    "| Lab      | HTTPS Content-Based Load Balancer with Terraform                        | removed  | <a href=\"https://www.cloudskillsboost.google/focuses/1206?parent=catalog\" target=\"_blank\">link</a>  |\n",
    "| Quest    | Getting Started with Apache Beam                                        | new_name | <a href=\"https://www.cloudskillsboost.google/quests/310\" target=\"_blank\">link</a>                   |\n",
    "| Quest    | Get Started with Apache Beam                                            | old_name | <a href=\"https://www.cloudskillsboost.google/quests/310\" target=\"_blank\">link</a>                   |"
   ]
  },
  {
   "attachments": {},
   "cell_type": "markdown",
   "metadata": {},
   "source": [
    "### 230604\n",
    "\n",
    "| format   | name                                                                                                             | status   | link                                                                                                |\n",
    "|:---------|:-----------------------------------------------------------------------------------------------------------------|:---------|:----------------------------------------------------------------------------------------------------|\n",
    "| Course   | Introduction to Generative AI Studio                                                                             | new      | <a href=\"https://www.cloudskillsboost.google/course_templates/552\" target=\"_blank\">link</a>         |\n",
    "| Course   | Introduction to Responsible AI                                                                                   | new      | <a href=\"https://www.cloudskillsboost.google/course_templates/554\" target=\"_blank\">link</a>         |\n",
    "| Lab      | Analyze Images with the Cloud Vision API: Challenge Lab                                                          | new      | <a href=\"https://www.cloudskillsboost.google/focuses/64748?parent=catalog\" target=\"_blank\">link</a> |\n",
    "| Lab      | Offloading Financial Mainframe Data into BigQuery and Elastic Search                                             | new      | <a href=\"https://www.cloudskillsboost.google/focuses/64744?parent=catalog\" target=\"_blank\">link</a> |\n",
    "| Lab      | Protect Sensitive Data with Data Loss Prevention: Challenge Lab                                                  | new      | <a href=\"https://www.cloudskillsboost.google/focuses/64782?parent=catalog\" target=\"_blank\">link</a> |\n",
    "| Lab      | Serverless Data Processing with Dataflow - Advanced Streaming Analytics Pipeline with Cloud Dataflow (Java)      | new      | <a href=\"https://www.cloudskillsboost.google/focuses/64777?parent=catalog\" target=\"_blank\">link</a> |\n",
    "| Lab      | Serverless Data Processing with Dataflow - Testing with Apache Beam (Java)                                       | new      | <a href=\"https://www.cloudskillsboost.google/focuses/64778?parent=catalog\" target=\"_blank\">link</a> |\n",
    "| Lab      | Serverless Data Processing with Dataflow - Writing an ETL Pipeline using Apache Beam and Cloud Dataflow (Python) | new      | <a href=\"https://www.cloudskillsboost.google/focuses/64780?parent=catalog\" target=\"_blank\">link</a> |\n",
    "| Lab      | Serverless Data Processing with Dataflow - Writing an ETL pipeline using Apache Beam and Cloud Dataflow (Java)   | new      | <a href=\"https://www.cloudskillsboost.google/focuses/64779?parent=catalog\" target=\"_blank\">link</a> |\n",
    "| Lab      | Install and Use Cloud Tools for PowerShell                                                                       | removed  | <a href=\"https://www.cloudskillsboost.google/focuses/666?parent=catalog\" target=\"_blank\">link</a>   |\n",
    "| Lab      | VM Migration: Introduction to StratoZone Migrate                                                                 | removed  | <a href=\"https://www.cloudskillsboost.google/focuses/59254?parent=catalog\" target=\"_blank\">link</a> |\n",
    "| Quest    | Analyze Images with the Cloud Vision API                                                                         | new      | <a href=\"https://www.cloudskillsboost.google/quests/308\" target=\"_blank\">link</a>                   |\n",
    "| Quest    | Get Started with Apache Beam                                                                                     | new      | <a href=\"https://www.cloudskillsboost.google/quests/310\" target=\"_blank\">link</a>                   |\n",
    "| Quest    | Protect Sensitive Data with Data Loss Prevention                                                                 | new      | <a href=\"https://www.cloudskillsboost.google/quests/315\" target=\"_blank\">link</a>                   |\n",
    "| Quest    | Measure Site Reliability using Cloud Operations Suite                                                            | removed  | <a href=\"https://www.cloudskillsboost.google/quests/189\" target=\"_blank\">link</a>                   |"
   ]
  },
  {
   "attachments": {},
   "cell_type": "markdown",
   "metadata": {},
   "source": [
    "### 230528\n",
    "\n",
    "| format   | name                                               | status        | link                                                                                                |\n",
    "|:---------|:---------------------------------------------------|:--------------|:----------------------------------------------------------------------------------------------------|\n",
    "| Course   | Media Rendering with Google Cloud                  | new           | <a href=\"https://www.cloudskillsboost.google/course_templates/549\" target=\"_blank\">link</a>         |\n",
    "| Course   | Launching into Machine Learning                    | new_same_name | <a href=\"https://www.cloudskillsboost.google/course_templates/125\" target=\"_blank\">link</a>         |\n",
    "| Lab      | Secure BigLake Data: Challenge Lab                 | new           | <a href=\"https://www.cloudskillsboost.google/focuses/64458?parent=catalog\" target=\"_blank\">link</a> |\n",
    "| Lab      | Tag and Discover BigLake Data: Challenge Lab       | new           | <a href=\"https://www.cloudskillsboost.google/focuses/64167?parent=catalog\" target=\"_blank\">link</a> |\n",
    "| Lab      | API Gateway: Qwik Start                            | removed       | <a href=\"https://www.cloudskillsboost.google/focuses/17996?parent=catalog\" target=\"_blank\">link</a> |\n",
    "| Quest    | Getting Started with MongoDB Atlas on Google Cloud | new           | <a href=\"https://www.cloudskillsboost.google/quests/306\" target=\"_blank\">link</a>                   |\n",
    "| Quest    | Secure BigLake Data                                | new           | <a href=\"https://www.cloudskillsboost.google/quests/307\" target=\"_blank\">link</a>                   |\n",
    "| Quest    | Tag and Discover BigLake Data                      | new           | <a href=\"https://www.cloudskillsboost.google/quests/305\" target=\"_blank\">link</a>                   |"
   ]
  },
  {
   "attachments": {},
   "cell_type": "markdown",
   "metadata": {},
   "source": [
    "### 230522\n",
    "\n",
    "| format   | name                                                                                    | status   | link                                                                                                |\n",
    "|:---------|:----------------------------------------------------------------------------------------|:---------|:----------------------------------------------------------------------------------------------------|\n",
    "| Lab      | Analyze Speech & Language with Google APIs: Challenge Lab                               | new      | <a href=\"https://www.cloudskillsboost.google/focuses/63851?parent=catalog\" target=\"_blank\">link</a> |\n",
    "| Lab      | Create a Secure Data Lake on Cloud Storage: Challenge Lab                               | new      | <a href=\"https://www.cloudskillsboost.google/focuses/63857?parent=catalog\" target=\"_blank\">link</a> |\n",
    "| Lab      | Monitoring in Google Cloud: Challenge Lab                                               | new      | <a href=\"https://www.cloudskillsboost.google/focuses/63855?parent=catalog\" target=\"_blank\">link</a> |\n",
    "| Lab      | Building an Application with MongoDB Atlas and Natural Language API hosted on Cloud Run | new_name | <a href=\"https://www.cloudskillsboost.google/focuses/50354?parent=catalog\" target=\"_blank\">link</a> |\n",
    "| Lab      | MongoDB Atlas with Natural Language API and Cloud Run                                   | old_name | <a href=\"https://www.cloudskillsboost.google/focuses/50354?parent=catalog\" target=\"_blank\">link</a> |\n",
    "| Quest    | Analyze Speech and Language with Google APIs                                            | new      | <a href=\"https://www.cloudskillsboost.google/quests/302\" target=\"_blank\">link</a>                   |\n",
    "| Quest    | Create a Secure Data Lake on Cloud Storage                                              | new      | <a href=\"https://www.cloudskillsboost.google/quests/303\" target=\"_blank\">link</a>                   |\n",
    "| Quest    | Monitoring in Google Cloud                                                              | new      | <a href=\"https://www.cloudskillsboost.google/quests/304\" target=\"_blank\">link</a>                   |"
   ]
  },
  {
   "attachments": {},
   "cell_type": "markdown",
   "metadata": {},
   "source": [
    "### 230518\n",
    "\n",
    "| format   | name                                                                 | status   | link                                                                                                |\n",
    "|:---------|:---------------------------------------------------------------------|:---------|:----------------------------------------------------------------------------------------------------|\n",
    "| Course   | Discovery AI                                                         | new_name | <a href=\"https://www.cloudskillsboost.google/course_templates/391\" target=\"_blank\">link</a>         |\n",
    "| Course   | Product Discovery                                                    | old_name | <a href=\"https://www.cloudskillsboost.google/course_templates/391\" target=\"_blank\">link</a>         |\n",
    "| Course   | Migrating to Google Cloud                                            | removed  | <a href=\"https://www.cloudskillsboost.google/course_templates/61\" target=\"_blank\">link</a>          |\n",
    "| Lab      | Get Started with Generative AI Studio                                | new      | <a href=\"https://www.cloudskillsboost.google/focuses/63564?parent=catalog\" target=\"_blank\">link</a> |\n",
    "| Lab      | Hosting a Web App on Google Cloud Using Compute Engine - Azure       | new      | <a href=\"https://www.cloudskillsboost.google/focuses/63541?parent=catalog\" target=\"_blank\">link</a> |\n",
    "| Lab      | Enhancing Network Security Approach on Google Cloud                  | removed  | <a href=\"https://www.cloudskillsboost.google/focuses/57194?parent=catalog\" target=\"_blank\">link</a> |\n",
    "| Lab      | Measure Site Reliability using Cloud Operations Suite: Challenge Lab | removed  | <a href=\"https://www.cloudskillsboost.google/focuses/27165?parent=catalog\" target=\"_blank\">link</a> |"
   ]
  },
  {
   "attachments": {},
   "cell_type": "markdown",
   "metadata": {},
   "source": [
    "### 230517\n",
    "\n",
    "| format   | name                                                      | status   | link                                                                                                |\n",
    "|:---------|:----------------------------------------------------------|:---------|:----------------------------------------------------------------------------------------------------|\n",
    "| Course   | Create Image Captioning Models                            | new      | <a href=\"https://www.cloudskillsboost.google/course_templates/542\" target=\"_blank\">link</a>         |\n",
    "| Course   | Encoder-Decoder Architecture                              | new      | <a href=\"https://www.cloudskillsboost.google/course_templates/543\" target=\"_blank\">link</a>         |\n",
    "| Course   | Introduction to Image Generation                          | new      | <a href=\"https://www.cloudskillsboost.google/course_templates/541\" target=\"_blank\">link</a>         |\n",
    "| Course   | Preparing for Your Google Workspace Administrator Journey | new      | <a href=\"https://www.cloudskillsboost.google/course_templates/540\" target=\"_blank\">link</a>         |\n",
    "| Lab      | Qwiklabs Trivia May Week 3                                | new      | <a href=\"https://www.cloudskillsboost.google/focuses/63283?parent=catalog\" target=\"_blank\">link</a> |\n",
    "| Lab      | SAP Landing Zone: Add and Configure Storage to SAP VMs    | new      | <a href=\"https://www.cloudskillsboost.google/focuses/63280?parent=catalog\" target=\"_blank\">link</a> |\n",
    "| Lab      | SAP Landing Zone: Plan and Deploy SAP Virtual Machines    | new      | <a href=\"https://www.cloudskillsboost.google/focuses/63281?parent=catalog\" target=\"_blank\">link</a> |\n",
    "| Lab      | SAP Landing Zone: Plan and Deploy the SAP Network         | new      | <a href=\"https://www.cloudskillsboost.google/focuses/63282?parent=catalog\" target=\"_blank\">link</a> |\n",
    "| Lab      | Qwiklabs Trivia May Week 2                                | removed  | <a href=\"https://www.cloudskillsboost.google/focuses/62947?parent=catalog\" target=\"_blank\">link</a> |\n",
    "| Quest    | Build an SAP Landing Zone on Google Cloud                 | new      | <a href=\"https://www.cloudskillsboost.google/quests/223\" target=\"_blank\">link</a>                   |\n",
    "| Quest    | Google Cloud's Operations Suite on GKE                    | removed  | <a href=\"https://www.cloudskillsboost.google/quests/133\" target=\"_blank\">link</a>                   |"
   ]
  },
  {
   "attachments": {},
   "cell_type": "markdown",
   "metadata": {},
   "source": [
    "### 230515\n",
    "\n",
    "| format   | name                                          | status   | link                                                                                                |\n",
    "|:---------|:----------------------------------------------|:---------|:----------------------------------------------------------------------------------------------------|\n",
    "| Lab      | Generative AI with Vertex AI: Getting Started | new      | <a href=\"https://www.cloudskillsboost.google/focuses/63250?parent=catalog\" target=\"_blank\">link</a> |\n",
    "| Lab      | Generative AI with Vertex AI: Prompt Design   | new      | <a href=\"https://www.cloudskillsboost.google/focuses/63251?parent=catalog\" target=\"_blank\">link</a> |\n",
    "| Quest    | Generative AI Explorer - Vertex AI            | new      | <a href=\"https://www.cloudskillsboost.google/quests/299\" target=\"_blank\">link</a>                   |"
   ]
  },
  {
   "attachments": {},
   "cell_type": "markdown",
   "metadata": {},
   "source": [
    "### 230513\n",
    "\n",
    "| format   | name                                     | status   | link                                                                                                |\n",
    "|:---------|:-----------------------------------------|:---------|:----------------------------------------------------------------------------------------------------|\n",
    "| Lab      | App Engine: 3 Ways: Challenge Lab        | new      | <a href=\"https://www.cloudskillsboost.google/focuses/63241?parent=catalog\" target=\"_blank\">link</a> |\n",
    "| Lab      | Get Started with Eventarc: Challenge Lab | new      | <a href=\"https://www.cloudskillsboost.google/focuses/63244?parent=catalog\" target=\"_blank\">link</a> |\n",
    "| Lab      | Get Started with Pub/Sub: Challenge Lab  | new      | <a href=\"https://www.cloudskillsboost.google/focuses/63246?parent=catalog\" target=\"_blank\">link</a> |\n",
    "| Quest    | App Engine: 3 Ways                       | new      | <a href=\"https://www.cloudskillsboost.google/quests/285\" target=\"_blank\">link</a>                   |\n",
    "| Quest    | Get Started with Eventarc                | new      | <a href=\"https://www.cloudskillsboost.google/quests/300\" target=\"_blank\">link</a>                   |\n",
    "| Quest    | Get Started with Pub/Sub                 | new      | <a href=\"https://www.cloudskillsboost.google/quests/301\" target=\"_blank\">link</a>                   |"
   ]
  },
  {
   "attachments": {},
   "cell_type": "markdown",
   "metadata": {},
   "source": [
    "### 230324 - 230510\n",
    "\n",
    "| format | name                                                         | status   | link                                                                                        |\n",
    "| :----- | :----------------------------------------------------------- | :------- | :------------------------------------------------------------------------------------------ |\n",
    "| Course | Attention Mechanism                                          | new      | <a href=\"https://www.cloudskillsboost.google/course_templates/537\" target=\"_blank\">link</a> |\n",
    "| Course | Building Applications with Eventarc on Google Cloud          | new      | <a href=\"https://www.cloudskillsboost.google/course_templates/531\" target=\"_blank\">link</a> |\n",
    "| Course | Design Foundations for Streaming with Google Cloud           | new      | <a href=\"https://www.cloudskillsboost.google/course_templates/532\" target=\"_blank\">link</a> |\n",
    "| Course | Developing Containerized Applications on Google Cloud        | new      | <a href=\"https://www.cloudskillsboost.google/course_templates/530\" target=\"_blank\">link</a> |\n",
    "| Course | Introduction to Generative AI                                | new      | <a href=\"https://www.cloudskillsboost.google/course_templates/536\" target=\"_blank\">link</a> |\n",
    "| Course | Introduction to Large Language Models                        | new      | <a href=\"https://www.cloudskillsboost.google/course_templates/539\" target=\"_blank\">link</a> |\n",
    "| Course | Serving Multimedia Content with Google Cloud                 | new      | <a href=\"https://www.cloudskillsboost.google/course_templates/535\" target=\"_blank\">link</a> |\n",
    "| Course | Transformer Models and BERT Model                            | new      | <a href=\"https://www.cloudskillsboost.google/course_templates/538\" target=\"_blank\">link</a> |\n",
    "| Course | Deploy and Monitor in Google Cloud for AWS Professionals     | new_name | <a href=\"https://www.cloudskillsboost.google/course_templates/523\" target=\"_blank\">link</a> |\n",
    "| Course | Deploy and Monitor in Google Cloud for Azure Professionals   | new_name | <a href=\"https://www.cloudskillsboost.google/course_templates/524\" target=\"_blank\">link</a> |\n",
    "| Course | Google Cloud Compute and Scalability for AWS Professionals   | new_name | <a href=\"https://www.cloudskillsboost.google/course_templates/526\" target=\"_blank\">link</a> |\n",
    "| Course | Google Cloud Compute and Scalability for Azure Professionals | new_name | <a href=\"https://www.cloudskillsboost.google/course_templates/525\" target=\"_blank\">link</a> |\n",
    "| Course | Google Cloud IAM and Networking for AWS Professionals        | new_name | <a href=\"https://www.cloudskillsboost.google/course_templates/522\" target=\"_blank\">link</a> |\n",
    "| Course | Google Cloud IAM and Networking for Azure Professionals      | new_name | <a href=\"https://www.cloudskillsboost.google/course_templates/520\" target=\"_blank\">link</a> |\n",
    "| Course | Google Cloud Storage and Containers for AWS Professionals    | new_name | <a href=\"https://www.cloudskillsboost.google/course_templates/519\" target=\"_blank\">link</a> |\n",
    "| Course | Google Cloud Storage and Containers for Azure Professionals  | new_name | <a href=\"https://www.cloudskillsboost.google/course_templates/521\" target=\"_blank\">link</a> |\n",
    "| Course | Machine Learning Operations (MLOps): Getting Started         | new_name | <a href=\"https://www.cloudskillsboost.google/course_templates/158\" target=\"_blank\">link</a> |\n",
    "| Course | MLOps (Machine Learning Operations) Fundamentals             | old_name | <a href=\"https://www.cloudskillsboost.google/course_templates/158\" target=\"_blank\">link</a> |\n"
   ]
  }
 ],
 "metadata": {
  "kernelspec": {
   "display_name": "mldev",
   "language": "python",
   "name": "python3"
  },
  "language_info": {
   "codemirror_mode": {
    "name": "ipython",
    "version": 3
   },
   "file_extension": ".py",
   "mimetype": "text/x-python",
   "name": "python",
   "nbconvert_exporter": "python",
   "pygments_lexer": "ipython3",
   "version": "3.9.16"
  },
  "orig_nbformat": 4
 },
 "nbformat": 4,
 "nbformat_minor": 2
}
