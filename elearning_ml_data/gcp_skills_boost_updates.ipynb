{
 "cells": [
  {
   "attachments": {},
   "cell_type": "markdown",
   "metadata": {},
   "source": [
    "# GCP Skills Boost Updates"
   ]
  },
  {
   "cell_type": "code",
   "execution_count": 1,
   "metadata": {},
   "outputs": [],
   "source": [
    "from bs4 import BeautifulSoup\n",
    "import requests\n",
    "import shutil\n",
    "import multiprocessing\n",
    "import pandas as pd\n",
    "import datetime\n",
    "import os\n",
    "import math\n",
    "import json"
   ]
  },
  {
   "attachments": {},
   "cell_type": "markdown",
   "metadata": {},
   "source": [
    "## Get html elements"
   ]
  },
  {
   "cell_type": "code",
   "execution_count": 2,
   "metadata": {},
   "outputs": [],
   "source": [
    "url_base = 'https://www.cloudskillsboost.google'\n",
    "url_catalog = f'{url_base}/catalog'\n",
    "file_name = 'gcp_resources'"
   ]
  },
  {
   "cell_type": "code",
   "execution_count": 3,
   "metadata": {},
   "outputs": [
    {
     "name": "stdout",
     "output_type": "stream",
     "text": [
      "1021 resources\n"
     ]
    }
   ],
   "source": [
    "html = requests.get(url_catalog).text\n",
    "soup = BeautifulSoup(html, 'html.parser')\n",
    "num_resources = int(soup.find('p', attrs={'class': 'ql-body-2'}).string.split()[0])\n",
    "num_pages = math.ceil(num_resources/10)\n",
    "\n",
    "print(f'{num_resources} resources')"
   ]
  },
  {
   "cell_type": "code",
   "execution_count": 4,
   "metadata": {},
   "outputs": [],
   "source": [
    "def get_urls():\n",
    "    for i in range(num_pages):\n",
    "        yield f'{url_catalog}?page={i+1}'\n",
    "        \n",
    "def get_format(element):\n",
    "    return element.div.h3.a['data-type']\n",
    "\n",
    "def get_name(element):\n",
    "    return element.div.h3.a.text\n",
    "\n",
    "def get_link(element):\n",
    "    id = element.div.h3.a['href'].split('?')[0][1:]\n",
    "    link = f'{url_base}/{id}'\n",
    "\n",
    "    if id.startswith('focuses'):\n",
    "        link += '?parent=catalog'\n",
    "\n",
    "    return link\n",
    "\n",
    "def get_description(element):\n",
    "    return element.p.text.strip()\n",
    "\n",
    "def get_level(element):\n",
    "    tag = element.footer.find('div', 'catalog-item-level')\n",
    "    level = tag.text.strip() if tag else ''\n",
    "\n",
    "    return level\n",
    "\n",
    "def get_credits(element):\n",
    "    tag = element.footer.find('div', 'catalog-item-cost')\n",
    "    tag_text = tag.text.strip()\n",
    "    credits = int(tag_text.split()[0]) if tag_text != 'Free' else 0\n",
    "\n",
    "    return credits\n",
    "\n",
    "# status: development\n",
    "def get_duration(element):\n",
    "    duration = None\n",
    "    duration_tag = element.footer.find('div', 'catalog-item-duration')\n",
    "    if duration_tag:\n",
    "        tokens = duration_tag.text.strip()\n",
    "        if tokens == 4:\n",
    "            hours = tokens[0]\n",
    "            minutes = tokens[2]\n",
    "        elif tokens == 2:\n",
    "            duration_str, unit = tokens\n",
    "            duration = int(duration_str)\n",
    "\n",
    "            if unit == 'Hours':\n",
    "                duration *= 60\n",
    "            elif unit == 'day':\n",
    "                duration *= 1440"
   ]
  },
  {
   "cell_type": "code",
   "execution_count": 5,
   "metadata": {},
   "outputs": [],
   "source": [
    "def get_elements(url):\n",
    "    html = requests.get(url).text\n",
    "    soup = BeautifulSoup(html)\n",
    "    elements = soup.find_all('li', 'catalog__list__item')\n",
    "\n",
    "    for element in elements:\n",
    "        data = {\n",
    "            'format':       get_format(element),\n",
    "            'name':         get_name(element),\n",
    "            'link':         get_link(element),\n",
    "            'description':  get_description(element),\n",
    "            'credits':      get_credits(element),\n",
    "            'level':        get_level(element)\n",
    "        }\n",
    "\n",
    "        with open(file_name, 'a') as f:\n",
    "            f.write(json.dumps(data) + ',')\n",
    "\n",
    "with multiprocessing.Pool(multiprocessing.cpu_count()) as p:\n",
    "    p.map(get_elements, get_urls())"
   ]
  },
  {
   "attachments": {},
   "cell_type": "markdown",
   "metadata": {},
   "source": [
    "## Load data "
   ]
  },
  {
   "cell_type": "code",
   "execution_count": 6,
   "metadata": {},
   "outputs": [],
   "source": [
    "with open(file_name) as f:\n",
    "    raw_data = f.read()\n",
    "\n",
    "os.remove(file_name)"
   ]
  },
  {
   "cell_type": "code",
   "execution_count": 7,
   "metadata": {},
   "outputs": [
    {
     "name": "stdout",
     "output_type": "stream",
     "text": [
      "1021 resources\n"
     ]
    }
   ],
   "source": [
    "data = json.loads(f'[{raw_data[:-1]}]')\n",
    "actual_data = pd.DataFrame(data)\n",
    "print(f'{len(actual_data)} resources')\n",
    "\n",
    "assert num_resources == len(actual_data)"
   ]
  },
  {
   "cell_type": "code",
   "execution_count": 8,
   "metadata": {},
   "outputs": [],
   "source": [
    "last_data_file = '../data/gcp_resources_chkp_230624.json'\n",
    "last_data = pd.read_json(last_data_file, orient='split')"
   ]
  },
  {
   "attachments": {},
   "cell_type": "markdown",
   "metadata": {},
   "source": [
    "## Preprocessing"
   ]
  },
  {
   "cell_type": "code",
   "execution_count": 9,
   "metadata": {},
   "outputs": [
    {
     "data": {
      "text/html": [
       "<div>\n",
       "<style scoped>\n",
       "    .dataframe tbody tr th:only-of-type {\n",
       "        vertical-align: middle;\n",
       "    }\n",
       "\n",
       "    .dataframe tbody tr th {\n",
       "        vertical-align: top;\n",
       "    }\n",
       "\n",
       "    .dataframe thead th {\n",
       "        text-align: right;\n",
       "    }\n",
       "</style>\n",
       "<table border=\"1\" class=\"dataframe\">\n",
       "  <thead>\n",
       "    <tr style=\"text-align: right;\">\n",
       "      <th></th>\n",
       "      <th>format</th>\n",
       "      <th>name</th>\n",
       "    </tr>\n",
       "  </thead>\n",
       "  <tbody>\n",
       "    <tr>\n",
       "      <th>243</th>\n",
       "      <td>Quest</td>\n",
       "      <td>Optimizing Your Google Cloud Costs</td>\n",
       "    </tr>\n",
       "    <tr>\n",
       "      <th>964</th>\n",
       "      <td>Course</td>\n",
       "      <td>Discovery AI</td>\n",
       "    </tr>\n",
       "  </tbody>\n",
       "</table>\n",
       "</div>"
      ],
      "text/plain": [
       "     format                                name\n",
       "243   Quest  Optimizing Your Google Cloud Costs\n",
       "964  Course                        Discovery AI"
      ]
     },
     "execution_count": 9,
     "metadata": {},
     "output_type": "execute_result"
    }
   ],
   "source": [
    "actual_data[actual_data.duplicated()][['format', 'name']]"
   ]
  },
  {
   "cell_type": "code",
   "execution_count": 10,
   "metadata": {},
   "outputs": [
    {
     "name": "stdout",
     "output_type": "stream",
     "text": [
      "1019 resources\n"
     ]
    }
   ],
   "source": [
    "actual_data.drop_duplicates(inplace=True)\n",
    "\n",
    "print(f'{len(actual_data)} resources')"
   ]
  },
  {
   "cell_type": "code",
   "execution_count": 11,
   "metadata": {},
   "outputs": [
    {
     "name": "stdout",
     "output_type": "stream",
     "text": [
      "948 resources\n"
     ]
    }
   ],
   "source": [
    "actual_data = actual_data[~actual_data['name'].str.endswith('Locales')]\n",
    "actual_data = actual_data.sort_values(by=['format','name', 'link'])\n",
    "\n",
    "print(f'{len(actual_data)} resources')"
   ]
  },
  {
   "attachments": {},
   "cell_type": "markdown",
   "metadata": {},
   "source": [
    "## Save actual data"
   ]
  },
  {
   "cell_type": "code",
   "execution_count": 12,
   "metadata": {},
   "outputs": [
    {
     "name": "stdout",
     "output_type": "stream",
     "text": [
      "gcp_resources_chkp_230706.json created!\n"
     ]
    }
   ],
   "source": [
    "timestamp = datetime.datetime.now().strftime('%y%m%d')\n",
    "\n",
    "shutil.copy(last_data_file, f'{last_data_file}_tmp')\n",
    "new_file_name = f'{file_name}_chkp_{timestamp}.json'\n",
    "actual_data.to_json(f'../data/{new_file_name}', indent=4, orient='split', index=False)\n",
    "print(f'{new_file_name} created!')"
   ]
  },
  {
   "attachments": {},
   "cell_type": "markdown",
   "metadata": {},
   "source": [
    "## Comparison"
   ]
  },
  {
   "cell_type": "code",
   "execution_count": 13,
   "metadata": {},
   "outputs": [
    {
     "data": {
      "text/html": [
       "<style type=\"text/css\">\n",
       "</style>\n",
       "<table id=\"T_beb50\">\n",
       "  <thead>\n",
       "    <tr>\n",
       "      <th class=\"blank level0\" >&nbsp;</th>\n",
       "      <th id=\"T_beb50_level0_col0\" class=\"col_heading level0 col0\" >format</th>\n",
       "      <th id=\"T_beb50_level0_col1\" class=\"col_heading level0 col1\" >name</th>\n",
       "      <th id=\"T_beb50_level0_col2\" class=\"col_heading level0 col2\" >status</th>\n",
       "      <th id=\"T_beb50_level0_col3\" class=\"col_heading level0 col3\" >link</th>\n",
       "    </tr>\n",
       "  </thead>\n",
       "  <tbody>\n",
       "    <tr>\n",
       "      <th id=\"T_beb50_level0_row0\" class=\"row_heading level0 row0\" >782</th>\n",
       "      <td id=\"T_beb50_row0_col0\" class=\"data row0 col0\" >Course</td>\n",
       "      <td id=\"T_beb50_row0_col1\" class=\"data row0 col1\" >AppSheet Team Hierarchy</td>\n",
       "      <td id=\"T_beb50_row0_col2\" class=\"data row0 col2\" >new</td>\n",
       "      <td id=\"T_beb50_row0_col3\" class=\"data row0 col3\" ><a href=\"https://www.cloudskillsboost.google/course_templates/565\" target=\"_blank\">link</a></td>\n",
       "    </tr>\n",
       "    <tr>\n",
       "      <th id=\"T_beb50_level0_row1\" class=\"row_heading level0 row1\" >1016</th>\n",
       "      <td id=\"T_beb50_row1_col0\" class=\"data row1 col0\" >Course</td>\n",
       "      <td id=\"T_beb50_row1_col1\" class=\"data row1 col1\" >Introduction to Vertex Forecasting and Time Series in Practice</td>\n",
       "      <td id=\"T_beb50_row1_col2\" class=\"data row1 col2\" >new_name</td>\n",
       "      <td id=\"T_beb50_row1_col3\" class=\"data row1 col3\" ><a href=\"https://www.cloudskillsboost.google/course_templates/511\" target=\"_blank\">link</a></td>\n",
       "    </tr>\n",
       "    <tr>\n",
       "      <th id=\"T_beb50_level0_row2\" class=\"row_heading level0 row2\" >161</th>\n",
       "      <td id=\"T_beb50_row2_col0\" class=\"data row2 col0\" >Course</td>\n",
       "      <td id=\"T_beb50_row2_col1\" class=\"data row2 col1\" >Vertex Forecasting and Time Series in Practice</td>\n",
       "      <td id=\"T_beb50_row2_col2\" class=\"data row2 col2\" >old_name</td>\n",
       "      <td id=\"T_beb50_row2_col3\" class=\"data row2 col3\" ><a href=\"https://www.cloudskillsboost.google/course_templates/511\" target=\"_blank\">link</a></td>\n",
       "    </tr>\n",
       "    <tr>\n",
       "      <th id=\"T_beb50_level0_row3\" class=\"row_heading level0 row3\" >213</th>\n",
       "      <td id=\"T_beb50_row3_col0\" class=\"data row3 col0\" >Lab</td>\n",
       "      <td id=\"T_beb50_row3_col1\" class=\"data row3 col1\" >Assessing Data Quality with Dataplex</td>\n",
       "      <td id=\"T_beb50_row3_col2\" class=\"data row3 col2\" >new</td>\n",
       "      <td id=\"T_beb50_row3_col3\" class=\"data row3 col3\" ><a href=\"https://www.cloudskillsboost.google/focuses/67211?parent=catalog\" target=\"_blank\">link</a></td>\n",
       "    </tr>\n",
       "    <tr>\n",
       "      <th id=\"T_beb50_level0_row4\" class=\"row_heading level0 row4\" >840</th>\n",
       "      <td id=\"T_beb50_row4_col0\" class=\"data row4 col0\" >Lab</td>\n",
       "      <td id=\"T_beb50_row4_col1\" class=\"data row4 col1\" >Build a Data Mesh with Dataplex: Challenge Lab</td>\n",
       "      <td id=\"T_beb50_row4_col2\" class=\"data row4 col2\" >new</td>\n",
       "      <td id=\"T_beb50_row4_col3\" class=\"data row4 col3\" ><a href=\"https://www.cloudskillsboost.google/focuses/67212?parent=catalog\" target=\"_blank\">link</a></td>\n",
       "    </tr>\n",
       "    <tr>\n",
       "      <th id=\"T_beb50_level0_row5\" class=\"row_heading level0 row5\" >841</th>\n",
       "      <td id=\"T_beb50_row5_col0\" class=\"data row5 col0\" >Lab</td>\n",
       "      <td id=\"T_beb50_row5_col1\" class=\"data row5 col1\" >Cloud Speech API 3 Ways: Challenge Lab</td>\n",
       "      <td id=\"T_beb50_row5_col2\" class=\"data row5 col2\" >new</td>\n",
       "      <td id=\"T_beb50_row5_col3\" class=\"data row5 col3\" ><a href=\"https://www.cloudskillsboost.google/focuses/67215?parent=catalog\" target=\"_blank\">link</a></td>\n",
       "    </tr>\n",
       "    <tr>\n",
       "      <th id=\"T_beb50_level0_row6\" class=\"row_heading level0 row6\" >676</th>\n",
       "      <td id=\"T_beb50_row6_col0\" class=\"data row6 col0\" >Lab</td>\n",
       "      <td id=\"T_beb50_row6_col1\" class=\"data row6 col1\" >Configure Service Accounts and IAM for Google Cloud: Challenge Lab</td>\n",
       "      <td id=\"T_beb50_row6_col2\" class=\"data row6 col2\" >new</td>\n",
       "      <td id=\"T_beb50_row6_col3\" class=\"data row6 col3\" ><a href=\"https://www.cloudskillsboost.google/focuses/67219?parent=catalog\" target=\"_blank\">link</a></td>\n",
       "    </tr>\n",
       "    <tr>\n",
       "      <th id=\"T_beb50_level0_row7\" class=\"row_heading level0 row7\" >29</th>\n",
       "      <td id=\"T_beb50_row7_col0\" class=\"data row7 col0\" >Lab</td>\n",
       "      <td id=\"T_beb50_row7_col1\" class=\"data row7 col1\" >HTTPS Content-Based Load Balancer with Terraform</td>\n",
       "      <td id=\"T_beb50_row7_col2\" class=\"data row7 col2\" >new</td>\n",
       "      <td id=\"T_beb50_row7_col3\" class=\"data row7 col3\" ><a href=\"https://www.cloudskillsboost.google/focuses/1206?parent=catalog\" target=\"_blank\">link</a></td>\n",
       "    </tr>\n",
       "    <tr>\n",
       "      <th id=\"T_beb50_level0_row8\" class=\"row_heading level0 row8\" >844</th>\n",
       "      <td id=\"T_beb50_row8_col0\" class=\"data row8 col0\" >Lab</td>\n",
       "      <td id=\"T_beb50_row8_col1\" class=\"data row8 col1\" >Implementing Security in Dataplex</td>\n",
       "      <td id=\"T_beb50_row8_col2\" class=\"data row8 col2\" >new</td>\n",
       "      <td id=\"T_beb50_row8_col3\" class=\"data row8 col3\" ><a href=\"https://www.cloudskillsboost.google/focuses/67213?parent=catalog\" target=\"_blank\">link</a></td>\n",
       "    </tr>\n",
       "    <tr>\n",
       "      <th id=\"T_beb50_level0_row9\" class=\"row_heading level0 row9\" >503</th>\n",
       "      <td id=\"T_beb50_row9_col0\" class=\"data row9 col0\" >Lab</td>\n",
       "      <td id=\"T_beb50_row9_col1\" class=\"data row9 col1\" >Integrate BigQuery Data and Google Workspace using Apps Script: Challenge Lab</td>\n",
       "      <td id=\"T_beb50_row9_col2\" class=\"data row9 col2\" >new</td>\n",
       "      <td id=\"T_beb50_row9_col3\" class=\"data row9 col3\" ><a href=\"https://www.cloudskillsboost.google/focuses/67217?parent=catalog\" target=\"_blank\">link</a></td>\n",
       "    </tr>\n",
       "    <tr>\n",
       "      <th id=\"T_beb50_level0_row10\" class=\"row_heading level0 row10\" >83</th>\n",
       "      <td id=\"T_beb50_row10_col0\" class=\"data row10 col0\" >Lab</td>\n",
       "      <td id=\"T_beb50_row10_col1\" class=\"data row10 col1\" >Qwiklabs Trivia July Week 1</td>\n",
       "      <td id=\"T_beb50_row10_col2\" class=\"data row10 col2\" >new</td>\n",
       "      <td id=\"T_beb50_row10_col3\" class=\"data row10 col3\" ><a href=\"https://www.cloudskillsboost.google/focuses/67307?parent=catalog\" target=\"_blank\">link</a></td>\n",
       "    </tr>\n",
       "    <tr>\n",
       "      <th id=\"T_beb50_level0_row11\" class=\"row_heading level0 row11\" >254</th>\n",
       "      <td id=\"T_beb50_row11_col0\" class=\"data row11 col0\" >Lab</td>\n",
       "      <td id=\"T_beb50_row11_col1\" class=\"data row11 col1\" >Building an Application with MongoDB Atlas and Natural Language API hosted on Cloud Run</td>\n",
       "      <td id=\"T_beb50_row11_col2\" class=\"data row11 col2\" >removed</td>\n",
       "      <td id=\"T_beb50_row11_col3\" class=\"data row11 col3\" ><a href=\"https://www.cloudskillsboost.google/focuses/50354?parent=catalog\" target=\"_blank\">link</a></td>\n",
       "    </tr>\n",
       "    <tr>\n",
       "      <th id=\"T_beb50_level0_row12\" class=\"row_heading level0 row12\" >946</th>\n",
       "      <td id=\"T_beb50_row12_col0\" class=\"data row12 col0\" >Quest</td>\n",
       "      <td id=\"T_beb50_row12_col1\" class=\"data row12 col1\" >Build a Data Mesh with Dataplex</td>\n",
       "      <td id=\"T_beb50_row12_col2\" class=\"data row12 col2\" >new</td>\n",
       "      <td id=\"T_beb50_row12_col3\" class=\"data row12 col3\" ><a href=\"https://www.cloudskillsboost.google/quests/325\" target=\"_blank\">link</a></td>\n",
       "    </tr>\n",
       "    <tr>\n",
       "      <th id=\"T_beb50_level0_row13\" class=\"row_heading level0 row13\" >947</th>\n",
       "      <td id=\"T_beb50_row13_col0\" class=\"data row13 col0\" >Quest</td>\n",
       "      <td id=\"T_beb50_row13_col1\" class=\"data row13 col1\" >Cloud Speech API: 3 Ways</td>\n",
       "      <td id=\"T_beb50_row13_col2\" class=\"data row13 col2\" >new</td>\n",
       "      <td id=\"T_beb50_row13_col3\" class=\"data row13 col3\" ><a href=\"https://www.cloudskillsboost.google/quests/326\" target=\"_blank\">link</a></td>\n",
       "    </tr>\n",
       "    <tr>\n",
       "      <th id=\"T_beb50_level0_row14\" class=\"row_heading level0 row14\" >949</th>\n",
       "      <td id=\"T_beb50_row14_col0\" class=\"data row14 col0\" >Quest</td>\n",
       "      <td id=\"T_beb50_row14_col1\" class=\"data row14 col1\" >Configure Service Accounts and IAM Roles for Google Cloud</td>\n",
       "      <td id=\"T_beb50_row14_col2\" class=\"data row14 col2\" >new</td>\n",
       "      <td id=\"T_beb50_row14_col3\" class=\"data row14 col3\" ><a href=\"https://www.cloudskillsboost.google/quests/328\" target=\"_blank\">link</a></td>\n",
       "    </tr>\n",
       "    <tr>\n",
       "      <th id=\"T_beb50_level0_row15\" class=\"row_heading level0 row15\" >948</th>\n",
       "      <td id=\"T_beb50_row15_col0\" class=\"data row15 col0\" >Quest</td>\n",
       "      <td id=\"T_beb50_row15_col1\" class=\"data row15 col1\" >Integrate BigQuery Data and Google Workspace using Apps Script</td>\n",
       "      <td id=\"T_beb50_row15_col2\" class=\"data row15 col2\" >new</td>\n",
       "      <td id=\"T_beb50_row15_col3\" class=\"data row15 col3\" ><a href=\"https://www.cloudskillsboost.google/quests/327\" target=\"_blank\">link</a></td>\n",
       "    </tr>\n",
       "    <tr>\n",
       "      <th id=\"T_beb50_level0_row16\" class=\"row_heading level0 row16\" >94</th>\n",
       "      <td id=\"T_beb50_row16_col0\" class=\"data row16 col0\" >Quest</td>\n",
       "      <td id=\"T_beb50_row16_col1\" class=\"data row16 col1\" >Measure Site Reliability using Cloud Operations Suite</td>\n",
       "      <td id=\"T_beb50_row16_col2\" class=\"data row16 col2\" >new</td>\n",
       "      <td id=\"T_beb50_row16_col3\" class=\"data row16 col3\" ><a href=\"https://www.cloudskillsboost.google/quests/189\" target=\"_blank\">link</a></td>\n",
       "    </tr>\n",
       "    <tr>\n",
       "      <th id=\"T_beb50_level0_row17\" class=\"row_heading level0 row17\" >990</th>\n",
       "      <td id=\"T_beb50_row17_col0\" class=\"data row17 col0\" >Quest</td>\n",
       "      <td id=\"T_beb50_row17_col1\" class=\"data row17 col1\" >Qwiklabs Trivia July 2023</td>\n",
       "      <td id=\"T_beb50_row17_col2\" class=\"data row17 col2\" >new</td>\n",
       "      <td id=\"T_beb50_row17_col3\" class=\"data row17 col3\" ><a href=\"https://www.cloudskillsboost.google/quests/329\" target=\"_blank\">link</a></td>\n",
       "    </tr>\n",
       "  </tbody>\n",
       "</table>\n"
      ],
      "text/plain": [
       "<pandas.io.formats.style.Styler at 0x7f370515ba30>"
      ]
     },
     "execution_count": 13,
     "metadata": {},
     "output_type": "execute_result"
    }
   ],
   "source": [
    "last_data['df'] = 'last'\n",
    "actual_data['df'] = 'actual'\n",
    "\n",
    "updates = pd.concat([last_data, actual_data])\n",
    "updates['status'] = 'same'\n",
    "\n",
    "same_names = updates.duplicated(keep=False, subset=['format', 'name'])\n",
    "same_links = updates.duplicated(keep=False, subset=['link'])\n",
    "last_df = updates['df'] == 'last'\n",
    "actual_df = updates['df'] == 'actual'\n",
    "\n",
    "updates.loc[last_df   & ~same_links, 'status'] = 'removed'\n",
    "updates.loc[actual_df & ~same_links, 'status'] = 'new'\n",
    "updates.loc[actual_df & ~same_links & same_names, 'status'] = 'new_same_name'\n",
    "updates.loc[last_df   & same_links & ~same_names, 'status'] = 'old_name'\n",
    "updates.loc[actual_df & same_links & ~same_names, 'status'] = 'new_name'\n",
    "\n",
    "updates = updates[updates['status'] != 'same'].sort_values(by=['format', 'status', 'name'])\n",
    "\n",
    "cols = ['format', 'name', 'status', 'link']\n",
    "\n",
    "updates['link'] = updates['link'].apply(\n",
    "    lambda x: f'<a href=\"{x}\" target=\"_blank\">link</a>')\n",
    "\n",
    "updates[cols].style.format()"
   ]
  },
  {
   "cell_type": "code",
   "execution_count": 14,
   "metadata": {},
   "outputs": [],
   "source": [
    "# Remove temporal Trivia resources\n",
    "updates = updates[~updates['name'].str.contains('Trivia')]"
   ]
  },
  {
   "cell_type": "code",
   "execution_count": 15,
   "metadata": {},
   "outputs": [
    {
     "name": "stdout",
     "output_type": "stream",
     "text": [
      "timestamp: 230706\n"
     ]
    }
   ],
   "source": [
    "# Copy markdown to clipboard. \n",
    "# Add to the Changelog.\n",
    "pd.io.clipboards.to_clipboard(updates[cols].to_markdown(index=False), excel=False)\n",
    "print(f'timestamp: {timestamp}')"
   ]
  },
  {
   "attachments": {},
   "cell_type": "markdown",
   "metadata": {},
   "source": [
    "## Changelog"
   ]
  },
  {
   "attachments": {},
   "cell_type": "markdown",
   "metadata": {},
   "source": [
    "### 230706\n",
    "\n",
    "| format   | name                                                                                    | status   | link                                                                                                |\n",
    "|:---------|:----------------------------------------------------------------------------------------|:---------|:----------------------------------------------------------------------------------------------------|\n",
    "| Course   | AppSheet Team Hierarchy                                                                 | new      | <a href=\"https://www.cloudskillsboost.google/course_templates/565\" target=\"_blank\">link</a>         |\n",
    "| Course   | Introduction to Vertex Forecasting and Time Series in Practice                          | new_name | <a href=\"https://www.cloudskillsboost.google/course_templates/511\" target=\"_blank\">link</a>         |\n",
    "| Course   | Vertex Forecasting and Time Series in Practice                                          | old_name | <a href=\"https://www.cloudskillsboost.google/course_templates/511\" target=\"_blank\">link</a>         |\n",
    "| Lab      | Assessing Data Quality with Dataplex                                                    | new      | <a href=\"https://www.cloudskillsboost.google/focuses/67211?parent=catalog\" target=\"_blank\">link</a> |\n",
    "| Lab      | Build a Data Mesh with Dataplex: Challenge Lab                                          | new      | <a href=\"https://www.cloudskillsboost.google/focuses/67212?parent=catalog\" target=\"_blank\">link</a> |\n",
    "| Lab      | Cloud Speech API 3 Ways: Challenge Lab                                                  | new      | <a href=\"https://www.cloudskillsboost.google/focuses/67215?parent=catalog\" target=\"_blank\">link</a> |\n",
    "| Lab      | Configure Service Accounts and IAM for Google Cloud: Challenge Lab                      | new      | <a href=\"https://www.cloudskillsboost.google/focuses/67219?parent=catalog\" target=\"_blank\">link</a> |\n",
    "| Lab      | HTTPS Content-Based Load Balancer with Terraform                                        | new      | <a href=\"https://www.cloudskillsboost.google/focuses/1206?parent=catalog\" target=\"_blank\">link</a>  |\n",
    "| Lab      | Implementing Security in Dataplex                                                       | new      | <a href=\"https://www.cloudskillsboost.google/focuses/67213?parent=catalog\" target=\"_blank\">link</a> |\n",
    "| Lab      | Integrate BigQuery Data and Google Workspace using Apps Script: Challenge Lab           | new      | <a href=\"https://www.cloudskillsboost.google/focuses/67217?parent=catalog\" target=\"_blank\">link</a> |\n",
    "| Lab      | Building an Application with MongoDB Atlas and Natural Language API hosted on Cloud Run | removed  | <a href=\"https://www.cloudskillsboost.google/focuses/50354?parent=catalog\" target=\"_blank\">link</a> |\n",
    "| Quest    | Build a Data Mesh with Dataplex                                                         | new      | <a href=\"https://www.cloudskillsboost.google/quests/325\" target=\"_blank\">link</a>                   |\n",
    "| Quest    | Cloud Speech API: 3 Ways                                                                | new      | <a href=\"https://www.cloudskillsboost.google/quests/326\" target=\"_blank\">link</a>                   |\n",
    "| Quest    | Configure Service Accounts and IAM Roles for Google Cloud                               | new      | <a href=\"https://www.cloudskillsboost.google/quests/328\" target=\"_blank\">link</a>                   |\n",
    "| Quest    | Integrate BigQuery Data and Google Workspace using Apps Script                          | new      | <a href=\"https://www.cloudskillsboost.google/quests/327\" target=\"_blank\">link</a>                   |\n",
    "| Quest    | Measure Site Reliability using Cloud Operations Suite                                   | new      | <a href=\"https://www.cloudskillsboost.google/quests/189\" target=\"_blank\">link</a>                   |"
   ]
  },
  {
   "attachments": {},
   "cell_type": "markdown",
   "metadata": {},
   "source": [
    "### 230624\n",
    "\n",
    "| format   | name                                                                      | status   | link                                                                                                |\n",
    "|:---------|:--------------------------------------------------------------------------|:---------|:----------------------------------------------------------------------------------------------------|\n",
    "| Lab      | Analyze Sentiment with Natural Language API: Challenge Lab                | new      | <a href=\"https://www.cloudskillsboost.google/focuses/66586?parent=catalog\" target=\"_blank\">link</a> |\n",
    "| Lab      | Build and Deploy Machine Learning Solutions with Vertex AI: Challenge Lab | new      | <a href=\"https://www.cloudskillsboost.google/focuses/22019?parent=catalog\" target=\"_blank\">link</a> |\n",
    "| Lab      | Develop with Apps Script and AppSheet: Challenge Lab                      | new      | <a href=\"https://www.cloudskillsboost.google/focuses/66584?parent=catalog\" target=\"_blank\">link</a> |\n",
    "| Lab      | Google Workspace Admin: Managing Google Meet                              | new      | <a href=\"https://www.cloudskillsboost.google/focuses/18361?parent=catalog\" target=\"_blank\">link</a> |\n",
    "| Lab      | Block.one: Getting Started with The EOSIO Blockchain                      | removed  | <a href=\"https://www.cloudskillsboost.google/focuses/18269?parent=catalog\" target=\"_blank\">link</a> |\n",
    "| Lab      | Confluent: Developing a Streaming Microservices Application               | removed  | <a href=\"https://www.cloudskillsboost.google/focuses/13517?parent=catalog\" target=\"_blank\">link</a> |\n",
    "| Quest    | Analyze Sentiment with Natural Language API                               | new      | <a href=\"https://www.cloudskillsboost.google/quests/323\" target=\"_blank\">link</a>                   |\n",
    "| Quest    | Develop with Apps Script and AppSheet                                     | new      | <a href=\"https://www.cloudskillsboost.google/quests/324\" target=\"_blank\">link</a>                   |"
   ]
  },
  {
   "attachments": {},
   "cell_type": "markdown",
   "metadata": {},
   "source": [
    "### 230620\n",
    "\n",
    "| format   | name                                                                      | status   | link                                                                                                |\n",
    "|:---------|:--------------------------------------------------------------------------|:---------|:----------------------------------------------------------------------------------------------------|\n",
    "| Course   | Developing Applications with Cloud Run on Google Cloud: Fundamentals      | new      | <a href=\"https://www.cloudskillsboost.google/course_templates/559\" target=\"_blank\">link</a>         |\n",
    "| Course   | MySQL to Cloud Spanner                                                    | new      | <a href=\"https://www.cloudskillsboost.google/course_templates/560\" target=\"_blank\">link</a>         |\n",
    "| Lab      | Enhancing Network Security Approach on Google Cloud                       | new      | <a href=\"https://www.cloudskillsboost.google/focuses/57194?parent=catalog\" target=\"_blank\">link</a> |\n",
    "| Lab      | Managing Google Classroom                                                 | new      | <a href=\"https://www.cloudskillsboost.google/focuses/27154?parent=catalog\" target=\"_blank\">link</a> |\n",
    "| Lab      | Networking Fundamentals on Google Cloud: Challenge Lab                    | new      | <a href=\"https://www.cloudskillsboost.google/focuses/65382?parent=catalog\" target=\"_blank\">link</a> |\n",
    "| Lab      | The Basics of Google Cloud Compute: Challenge Lab                         | new      | <a href=\"https://www.cloudskillsboost.google/focuses/65384?parent=catalog\" target=\"_blank\">link</a> |\n",
    "| Lab      | Use APIs to Work with Cloud Storage: Challenge Lab                        | new      | <a href=\"https://www.cloudskillsboost.google/focuses/65991?parent=catalog\" target=\"_blank\">link</a> |\n",
    "| Lab      | Using the Google Cloud Speech API: Challenge Lab                          | new      | <a href=\"https://www.cloudskillsboost.google/focuses/65993?parent=catalog\" target=\"_blank\">link</a> |\n",
    "| Lab      | Build and Deploy Machine Learning Solutions with Vertex AI: Challenge Lab | removed  | <a href=\"https://www.cloudskillsboost.google/focuses/22019?parent=catalog\" target=\"_blank\">link</a> |\n",
    "| Lab      | Google Workspace Admin: Managing Google Meet                              | removed  | <a href=\"https://www.cloudskillsboost.google/focuses/18361?parent=catalog\" target=\"_blank\">link</a> |\n",
    "| Lab      | Scaling VM-Series to Secure Google Cloud Networks                         | removed  | <a href=\"https://www.cloudskillsboost.google/focuses/57544?parent=catalog\" target=\"_blank\">link</a> |\n",
    "| Lab      | Using Cloud Trace on Kubernetes Engine                                    | removed  | <a href=\"https://www.cloudskillsboost.google/focuses/5159?parent=catalog\" target=\"_blank\">link</a>  |\n",
    "| Quest    | Networking Fundamentals on Google Cloud                                   | new      | <a href=\"https://www.cloudskillsboost.google/quests/318\" target=\"_blank\">link</a>                   |\n",
    "| Quest    | The Basics of Google Cloud Compute                                        | new      | <a href=\"https://www.cloudskillsboost.google/quests/319\" target=\"_blank\">link</a>                   |\n",
    "| Quest    | Use APIs to Work with Cloud Storage                                       | new      | <a href=\"https://www.cloudskillsboost.google/quests/321\" target=\"_blank\">link</a>                   |\n",
    "| Quest    | Using the Google Cloud Speech API                                         | new      | <a href=\"https://www.cloudskillsboost.google/quests/320\" target=\"_blank\">link</a>                   |"
   ]
  },
  {
   "attachments": {},
   "cell_type": "markdown",
   "metadata": {},
   "source": [
    "### 230607\n",
    "\n",
    "| format   | name                                                                    | status   | link                                                                                                |\n",
    "|:---------|:------------------------------------------------------------------------|:---------|:----------------------------------------------------------------------------------------------------|\n",
    "| Course   | Generative AI Fundamentals                                              | new      | <a href=\"https://www.cloudskillsboost.google/course_templates/556\" target=\"_blank\">link</a>         |\n",
    "| Lab      | API Gateway: Qwik Start                                                 | new      | <a href=\"https://www.cloudskillsboost.google/focuses/17996?parent=catalog\" target=\"_blank\">link</a> |\n",
    "| Lab      | Configure Your Workplace: Google Workspace for IT Admins: Challenge Lab | new      | <a href=\"https://www.cloudskillsboost.google/focuses/40783?parent=catalog\" target=\"_blank\">link</a> |\n",
    "| Lab      | Google Workspace Admin: Getting Started                                 | new      | <a href=\"https://www.cloudskillsboost.google/focuses/16418?parent=catalog\" target=\"_blank\">link</a> |\n",
    "| Lab      | Google Workspace Admin: Managing Applications                           | new      | <a href=\"https://www.cloudskillsboost.google/focuses/18332?parent=catalog\" target=\"_blank\">link</a> |\n",
    "| Lab      | Google Workspace Admin: Managing Google Meet                            | new      | <a href=\"https://www.cloudskillsboost.google/focuses/18361?parent=catalog\" target=\"_blank\">link</a> |\n",
    "| Lab      | Google Workspace Admin: Provisioning                                    | new      | <a href=\"https://www.cloudskillsboost.google/focuses/18119?parent=catalog\" target=\"_blank\">link</a> |\n",
    "| Lab      | Google Workspace Admin: Securing                                        | new      | <a href=\"https://www.cloudskillsboost.google/focuses/18333?parent=catalog\" target=\"_blank\">link</a> |\n",
    "| Lab      | Google Workspace Admin: Super Admin Account Recovery                    | new      | <a href=\"https://www.cloudskillsboost.google/focuses/20114?parent=catalog\" target=\"_blank\">link</a> |\n",
    "| Lab      | Google Workspace for Education: Challenge Lab                           | new      | <a href=\"https://www.cloudskillsboost.google/focuses/29794?parent=catalog\" target=\"_blank\">link</a> |\n",
    "| Lab      | Google Workspace for Education: Getting Started                         | new      | <a href=\"https://www.cloudskillsboost.google/focuses/25706?parent=catalog\" target=\"_blank\">link</a> |\n",
    "| Lab      | Google Workspace for Education: Managing Services                       | new      | <a href=\"https://www.cloudskillsboost.google/focuses/28383?parent=catalog\" target=\"_blank\">link</a> |\n",
    "| Lab      | Setting Up Google Meet for Distance Learning                            | new      | <a href=\"https://www.cloudskillsboost.google/focuses/27159?parent=catalog\" target=\"_blank\">link</a> |\n",
    "| Lab      | Shared Drives: Getting Started                                          | new      | <a href=\"https://www.cloudskillsboost.google/focuses/5829?parent=catalog\" target=\"_blank\">link</a>  |\n",
    "| Lab      | Teaching with Google Classroom                                          | new      | <a href=\"https://www.cloudskillsboost.google/focuses/25896?parent=catalog\" target=\"_blank\">link</a> |\n",
    "| Lab      | HTTPS Content-Based Load Balancer with Terraform                        | removed  | <a href=\"https://www.cloudskillsboost.google/focuses/1206?parent=catalog\" target=\"_blank\">link</a>  |\n",
    "| Quest    | Getting Started with Apache Beam                                        | new_name | <a href=\"https://www.cloudskillsboost.google/quests/310\" target=\"_blank\">link</a>                   |\n",
    "| Quest    | Get Started with Apache Beam                                            | old_name | <a href=\"https://www.cloudskillsboost.google/quests/310\" target=\"_blank\">link</a>                   |"
   ]
  },
  {
   "attachments": {},
   "cell_type": "markdown",
   "metadata": {},
   "source": [
    "### 230604\n",
    "\n",
    "| format   | name                                                                                                             | status   | link                                                                                                |\n",
    "|:---------|:-----------------------------------------------------------------------------------------------------------------|:---------|:----------------------------------------------------------------------------------------------------|\n",
    "| Course   | Introduction to Generative AI Studio                                                                             | new      | <a href=\"https://www.cloudskillsboost.google/course_templates/552\" target=\"_blank\">link</a>         |\n",
    "| Course   | Introduction to Responsible AI                                                                                   | new      | <a href=\"https://www.cloudskillsboost.google/course_templates/554\" target=\"_blank\">link</a>         |\n",
    "| Lab      | Analyze Images with the Cloud Vision API: Challenge Lab                                                          | new      | <a href=\"https://www.cloudskillsboost.google/focuses/64748?parent=catalog\" target=\"_blank\">link</a> |\n",
    "| Lab      | Offloading Financial Mainframe Data into BigQuery and Elastic Search                                             | new      | <a href=\"https://www.cloudskillsboost.google/focuses/64744?parent=catalog\" target=\"_blank\">link</a> |\n",
    "| Lab      | Protect Sensitive Data with Data Loss Prevention: Challenge Lab                                                  | new      | <a href=\"https://www.cloudskillsboost.google/focuses/64782?parent=catalog\" target=\"_blank\">link</a> |\n",
    "| Lab      | Serverless Data Processing with Dataflow - Advanced Streaming Analytics Pipeline with Cloud Dataflow (Java)      | new      | <a href=\"https://www.cloudskillsboost.google/focuses/64777?parent=catalog\" target=\"_blank\">link</a> |\n",
    "| Lab      | Serverless Data Processing with Dataflow - Testing with Apache Beam (Java)                                       | new      | <a href=\"https://www.cloudskillsboost.google/focuses/64778?parent=catalog\" target=\"_blank\">link</a> |\n",
    "| Lab      | Serverless Data Processing with Dataflow - Writing an ETL Pipeline using Apache Beam and Cloud Dataflow (Python) | new      | <a href=\"https://www.cloudskillsboost.google/focuses/64780?parent=catalog\" target=\"_blank\">link</a> |\n",
    "| Lab      | Serverless Data Processing with Dataflow - Writing an ETL pipeline using Apache Beam and Cloud Dataflow (Java)   | new      | <a href=\"https://www.cloudskillsboost.google/focuses/64779?parent=catalog\" target=\"_blank\">link</a> |\n",
    "| Lab      | Install and Use Cloud Tools for PowerShell                                                                       | removed  | <a href=\"https://www.cloudskillsboost.google/focuses/666?parent=catalog\" target=\"_blank\">link</a>   |\n",
    "| Lab      | VM Migration: Introduction to StratoZone Migrate                                                                 | removed  | <a href=\"https://www.cloudskillsboost.google/focuses/59254?parent=catalog\" target=\"_blank\">link</a> |\n",
    "| Quest    | Analyze Images with the Cloud Vision API                                                                         | new      | <a href=\"https://www.cloudskillsboost.google/quests/308\" target=\"_blank\">link</a>                   |\n",
    "| Quest    | Get Started with Apache Beam                                                                                     | new      | <a href=\"https://www.cloudskillsboost.google/quests/310\" target=\"_blank\">link</a>                   |\n",
    "| Quest    | Protect Sensitive Data with Data Loss Prevention                                                                 | new      | <a href=\"https://www.cloudskillsboost.google/quests/315\" target=\"_blank\">link</a>                   |\n",
    "| Quest    | Measure Site Reliability using Cloud Operations Suite                                                            | removed  | <a href=\"https://www.cloudskillsboost.google/quests/189\" target=\"_blank\">link</a>                   |"
   ]
  },
  {
   "attachments": {},
   "cell_type": "markdown",
   "metadata": {},
   "source": [
    "### 230528\n",
    "\n",
    "| format   | name                                               | status        | link                                                                                                |\n",
    "|:---------|:---------------------------------------------------|:--------------|:----------------------------------------------------------------------------------------------------|\n",
    "| Course   | Media Rendering with Google Cloud                  | new           | <a href=\"https://www.cloudskillsboost.google/course_templates/549\" target=\"_blank\">link</a>         |\n",
    "| Course   | Launching into Machine Learning                    | new_same_name | <a href=\"https://www.cloudskillsboost.google/course_templates/125\" target=\"_blank\">link</a>         |\n",
    "| Lab      | Secure BigLake Data: Challenge Lab                 | new           | <a href=\"https://www.cloudskillsboost.google/focuses/64458?parent=catalog\" target=\"_blank\">link</a> |\n",
    "| Lab      | Tag and Discover BigLake Data: Challenge Lab       | new           | <a href=\"https://www.cloudskillsboost.google/focuses/64167?parent=catalog\" target=\"_blank\">link</a> |\n",
    "| Lab      | API Gateway: Qwik Start                            | removed       | <a href=\"https://www.cloudskillsboost.google/focuses/17996?parent=catalog\" target=\"_blank\">link</a> |\n",
    "| Quest    | Getting Started with MongoDB Atlas on Google Cloud | new           | <a href=\"https://www.cloudskillsboost.google/quests/306\" target=\"_blank\">link</a>                   |\n",
    "| Quest    | Secure BigLake Data                                | new           | <a href=\"https://www.cloudskillsboost.google/quests/307\" target=\"_blank\">link</a>                   |\n",
    "| Quest    | Tag and Discover BigLake Data                      | new           | <a href=\"https://www.cloudskillsboost.google/quests/305\" target=\"_blank\">link</a>                   |"
   ]
  },
  {
   "attachments": {},
   "cell_type": "markdown",
   "metadata": {},
   "source": [
    "### 230522\n",
    "\n",
    "| format   | name                                                                                    | status   | link                                                                                                |\n",
    "|:---------|:----------------------------------------------------------------------------------------|:---------|:----------------------------------------------------------------------------------------------------|\n",
    "| Lab      | Analyze Speech & Language with Google APIs: Challenge Lab                               | new      | <a href=\"https://www.cloudskillsboost.google/focuses/63851?parent=catalog\" target=\"_blank\">link</a> |\n",
    "| Lab      | Create a Secure Data Lake on Cloud Storage: Challenge Lab                               | new      | <a href=\"https://www.cloudskillsboost.google/focuses/63857?parent=catalog\" target=\"_blank\">link</a> |\n",
    "| Lab      | Monitoring in Google Cloud: Challenge Lab                                               | new      | <a href=\"https://www.cloudskillsboost.google/focuses/63855?parent=catalog\" target=\"_blank\">link</a> |\n",
    "| Lab      | Building an Application with MongoDB Atlas and Natural Language API hosted on Cloud Run | new_name | <a href=\"https://www.cloudskillsboost.google/focuses/50354?parent=catalog\" target=\"_blank\">link</a> |\n",
    "| Lab      | MongoDB Atlas with Natural Language API and Cloud Run                                   | old_name | <a href=\"https://www.cloudskillsboost.google/focuses/50354?parent=catalog\" target=\"_blank\">link</a> |\n",
    "| Quest    | Analyze Speech and Language with Google APIs                                            | new      | <a href=\"https://www.cloudskillsboost.google/quests/302\" target=\"_blank\">link</a>                   |\n",
    "| Quest    | Create a Secure Data Lake on Cloud Storage                                              | new      | <a href=\"https://www.cloudskillsboost.google/quests/303\" target=\"_blank\">link</a>                   |\n",
    "| Quest    | Monitoring in Google Cloud                                                              | new      | <a href=\"https://www.cloudskillsboost.google/quests/304\" target=\"_blank\">link</a>                   |"
   ]
  },
  {
   "attachments": {},
   "cell_type": "markdown",
   "metadata": {},
   "source": [
    "### 230518\n",
    "\n",
    "| format   | name                                                                 | status   | link                                                                                                |\n",
    "|:---------|:---------------------------------------------------------------------|:---------|:----------------------------------------------------------------------------------------------------|\n",
    "| Course   | Discovery AI                                                         | new_name | <a href=\"https://www.cloudskillsboost.google/course_templates/391\" target=\"_blank\">link</a>         |\n",
    "| Course   | Product Discovery                                                    | old_name | <a href=\"https://www.cloudskillsboost.google/course_templates/391\" target=\"_blank\">link</a>         |\n",
    "| Course   | Migrating to Google Cloud                                            | removed  | <a href=\"https://www.cloudskillsboost.google/course_templates/61\" target=\"_blank\">link</a>          |\n",
    "| Lab      | Get Started with Generative AI Studio                                | new      | <a href=\"https://www.cloudskillsboost.google/focuses/63564?parent=catalog\" target=\"_blank\">link</a> |\n",
    "| Lab      | Hosting a Web App on Google Cloud Using Compute Engine - Azure       | new      | <a href=\"https://www.cloudskillsboost.google/focuses/63541?parent=catalog\" target=\"_blank\">link</a> |\n",
    "| Lab      | Enhancing Network Security Approach on Google Cloud                  | removed  | <a href=\"https://www.cloudskillsboost.google/focuses/57194?parent=catalog\" target=\"_blank\">link</a> |\n",
    "| Lab      | Measure Site Reliability using Cloud Operations Suite: Challenge Lab | removed  | <a href=\"https://www.cloudskillsboost.google/focuses/27165?parent=catalog\" target=\"_blank\">link</a> |"
   ]
  },
  {
   "attachments": {},
   "cell_type": "markdown",
   "metadata": {},
   "source": [
    "### 230517\n",
    "\n",
    "| format   | name                                                      | status   | link                                                                                                |\n",
    "|:---------|:----------------------------------------------------------|:---------|:----------------------------------------------------------------------------------------------------|\n",
    "| Course   | Create Image Captioning Models                            | new      | <a href=\"https://www.cloudskillsboost.google/course_templates/542\" target=\"_blank\">link</a>         |\n",
    "| Course   | Encoder-Decoder Architecture                              | new      | <a href=\"https://www.cloudskillsboost.google/course_templates/543\" target=\"_blank\">link</a>         |\n",
    "| Course   | Introduction to Image Generation                          | new      | <a href=\"https://www.cloudskillsboost.google/course_templates/541\" target=\"_blank\">link</a>         |\n",
    "| Course   | Preparing for Your Google Workspace Administrator Journey | new      | <a href=\"https://www.cloudskillsboost.google/course_templates/540\" target=\"_blank\">link</a>         |\n",
    "| Lab      | Qwiklabs Trivia May Week 3                                | new      | <a href=\"https://www.cloudskillsboost.google/focuses/63283?parent=catalog\" target=\"_blank\">link</a> |\n",
    "| Lab      | SAP Landing Zone: Add and Configure Storage to SAP VMs    | new      | <a href=\"https://www.cloudskillsboost.google/focuses/63280?parent=catalog\" target=\"_blank\">link</a> |\n",
    "| Lab      | SAP Landing Zone: Plan and Deploy SAP Virtual Machines    | new      | <a href=\"https://www.cloudskillsboost.google/focuses/63281?parent=catalog\" target=\"_blank\">link</a> |\n",
    "| Lab      | SAP Landing Zone: Plan and Deploy the SAP Network         | new      | <a href=\"https://www.cloudskillsboost.google/focuses/63282?parent=catalog\" target=\"_blank\">link</a> |\n",
    "| Lab      | Qwiklabs Trivia May Week 2                                | removed  | <a href=\"https://www.cloudskillsboost.google/focuses/62947?parent=catalog\" target=\"_blank\">link</a> |\n",
    "| Quest    | Build an SAP Landing Zone on Google Cloud                 | new      | <a href=\"https://www.cloudskillsboost.google/quests/223\" target=\"_blank\">link</a>                   |\n",
    "| Quest    | Google Cloud's Operations Suite on GKE                    | removed  | <a href=\"https://www.cloudskillsboost.google/quests/133\" target=\"_blank\">link</a>                   |"
   ]
  },
  {
   "attachments": {},
   "cell_type": "markdown",
   "metadata": {},
   "source": [
    "### 230515\n",
    "\n",
    "| format   | name                                          | status   | link                                                                                                |\n",
    "|:---------|:----------------------------------------------|:---------|:----------------------------------------------------------------------------------------------------|\n",
    "| Lab      | Generative AI with Vertex AI: Getting Started | new      | <a href=\"https://www.cloudskillsboost.google/focuses/63250?parent=catalog\" target=\"_blank\">link</a> |\n",
    "| Lab      | Generative AI with Vertex AI: Prompt Design   | new      | <a href=\"https://www.cloudskillsboost.google/focuses/63251?parent=catalog\" target=\"_blank\">link</a> |\n",
    "| Quest    | Generative AI Explorer - Vertex AI            | new      | <a href=\"https://www.cloudskillsboost.google/quests/299\" target=\"_blank\">link</a>                   |"
   ]
  },
  {
   "attachments": {},
   "cell_type": "markdown",
   "metadata": {},
   "source": [
    "### 230513\n",
    "\n",
    "| format   | name                                     | status   | link                                                                                                |\n",
    "|:---------|:-----------------------------------------|:---------|:----------------------------------------------------------------------------------------------------|\n",
    "| Lab      | App Engine: 3 Ways: Challenge Lab        | new      | <a href=\"https://www.cloudskillsboost.google/focuses/63241?parent=catalog\" target=\"_blank\">link</a> |\n",
    "| Lab      | Get Started with Eventarc: Challenge Lab | new      | <a href=\"https://www.cloudskillsboost.google/focuses/63244?parent=catalog\" target=\"_blank\">link</a> |\n",
    "| Lab      | Get Started with Pub/Sub: Challenge Lab  | new      | <a href=\"https://www.cloudskillsboost.google/focuses/63246?parent=catalog\" target=\"_blank\">link</a> |\n",
    "| Quest    | App Engine: 3 Ways                       | new      | <a href=\"https://www.cloudskillsboost.google/quests/285\" target=\"_blank\">link</a>                   |\n",
    "| Quest    | Get Started with Eventarc                | new      | <a href=\"https://www.cloudskillsboost.google/quests/300\" target=\"_blank\">link</a>                   |\n",
    "| Quest    | Get Started with Pub/Sub                 | new      | <a href=\"https://www.cloudskillsboost.google/quests/301\" target=\"_blank\">link</a>                   |"
   ]
  },
  {
   "attachments": {},
   "cell_type": "markdown",
   "metadata": {},
   "source": [
    "### 230324 - 230510\n",
    "\n",
    "| format | name                                                         | status   | link                                                                                        |\n",
    "| :----- | :----------------------------------------------------------- | :------- | :------------------------------------------------------------------------------------------ |\n",
    "| Course | Attention Mechanism                                          | new      | <a href=\"https://www.cloudskillsboost.google/course_templates/537\" target=\"_blank\">link</a> |\n",
    "| Course | Building Applications with Eventarc on Google Cloud          | new      | <a href=\"https://www.cloudskillsboost.google/course_templates/531\" target=\"_blank\">link</a> |\n",
    "| Course | Design Foundations for Streaming with Google Cloud           | new      | <a href=\"https://www.cloudskillsboost.google/course_templates/532\" target=\"_blank\">link</a> |\n",
    "| Course | Developing Containerized Applications on Google Cloud        | new      | <a href=\"https://www.cloudskillsboost.google/course_templates/530\" target=\"_blank\">link</a> |\n",
    "| Course | Introduction to Generative AI                                | new      | <a href=\"https://www.cloudskillsboost.google/course_templates/536\" target=\"_blank\">link</a> |\n",
    "| Course | Introduction to Large Language Models                        | new      | <a href=\"https://www.cloudskillsboost.google/course_templates/539\" target=\"_blank\">link</a> |\n",
    "| Course | Serving Multimedia Content with Google Cloud                 | new      | <a href=\"https://www.cloudskillsboost.google/course_templates/535\" target=\"_blank\">link</a> |\n",
    "| Course | Transformer Models and BERT Model                            | new      | <a href=\"https://www.cloudskillsboost.google/course_templates/538\" target=\"_blank\">link</a> |\n",
    "| Course | Deploy and Monitor in Google Cloud for AWS Professionals     | new_name | <a href=\"https://www.cloudskillsboost.google/course_templates/523\" target=\"_blank\">link</a> |\n",
    "| Course | Deploy and Monitor in Google Cloud for Azure Professionals   | new_name | <a href=\"https://www.cloudskillsboost.google/course_templates/524\" target=\"_blank\">link</a> |\n",
    "| Course | Google Cloud Compute and Scalability for AWS Professionals   | new_name | <a href=\"https://www.cloudskillsboost.google/course_templates/526\" target=\"_blank\">link</a> |\n",
    "| Course | Google Cloud Compute and Scalability for Azure Professionals | new_name | <a href=\"https://www.cloudskillsboost.google/course_templates/525\" target=\"_blank\">link</a> |\n",
    "| Course | Google Cloud IAM and Networking for AWS Professionals        | new_name | <a href=\"https://www.cloudskillsboost.google/course_templates/522\" target=\"_blank\">link</a> |\n",
    "| Course | Google Cloud IAM and Networking for Azure Professionals      | new_name | <a href=\"https://www.cloudskillsboost.google/course_templates/520\" target=\"_blank\">link</a> |\n",
    "| Course | Google Cloud Storage and Containers for AWS Professionals    | new_name | <a href=\"https://www.cloudskillsboost.google/course_templates/519\" target=\"_blank\">link</a> |\n",
    "| Course | Google Cloud Storage and Containers for Azure Professionals  | new_name | <a href=\"https://www.cloudskillsboost.google/course_templates/521\" target=\"_blank\">link</a> |\n",
    "| Course | Machine Learning Operations (MLOps): Getting Started         | new_name | <a href=\"https://www.cloudskillsboost.google/course_templates/158\" target=\"_blank\">link</a> |\n",
    "| Course | MLOps (Machine Learning Operations) Fundamentals             | old_name | <a href=\"https://www.cloudskillsboost.google/course_templates/158\" target=\"_blank\">link</a> |\n"
   ]
  }
 ],
 "metadata": {
  "kernelspec": {
   "display_name": "mldev",
   "language": "python",
   "name": "python3"
  },
  "language_info": {
   "codemirror_mode": {
    "name": "ipython",
    "version": 3
   },
   "file_extension": ".py",
   "mimetype": "text/x-python",
   "name": "python",
   "nbconvert_exporter": "python",
   "pygments_lexer": "ipython3",
   "version": "3.9.16"
  },
  "orig_nbformat": 4
 },
 "nbformat": 4,
 "nbformat_minor": 2
}
