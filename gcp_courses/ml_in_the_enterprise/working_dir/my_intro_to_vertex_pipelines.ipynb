{
 "cells": [
  {
   "attachments": {},
   "cell_type": "markdown",
   "metadata": {},
   "source": [
    "# intro_to_vertex_pipelines.ipynb"
   ]
  },
  {
   "attachments": {},
   "cell_type": "markdown",
   "metadata": {},
   "source": [
    "Based on:\n",
    "* ../machine_learning_in_the_enterprise/solutions/[intro_to_vertex_pipelines.ipynb](https://github.com/GoogleCloudPlatform/training-data-analyst/blob/master/courses/machine_learning/deepdive2/machine_learning_in_the_enterprise/solutions/intro_to_vertex_pipelines.ipynb) \n",
    "* commit `2d77930`. In case of [updates](https://github.com/GoogleCloudPlatform/training-data-analyst/commits/master/courses/machine_learning/deepdive2/machine_learning_in_the_enterprise/solutions/intro_to_vertex_pipelines.ipynb) available, [compare](https://github.com/GoogleCloudPlatform/training-data-analyst/compare/2d77930..)."
   ]
  },
  {
   "attachments": {},
   "cell_type": "markdown",
   "metadata": {},
   "source": [
    "## Kubeflow"
   ]
  },
  {
   "attachments": {},
   "cell_type": "markdown",
   "metadata": {},
   "source": [
    "Create components and pipeline"
   ]
  },
  {
   "cell_type": "code",
   "execution_count": null,
   "metadata": {},
   "outputs": [],
   "source": [
    "from typing import NamedTuple\n",
    "from kfp import dsl\n",
    "from kfp import client\n",
    "\n",
    "@dsl.component\n",
    "def product_name(text: str) -> str:\n",
    "    return text\n",
    "\n",
    "@dsl.component(packages_to_install=[\"emoji\"])\n",
    "def emoji(text: str) -> NamedTuple('Outputs', [('emoji_text', str),('emoji', str)]):\n",
    "\n",
    "    import emoji\n",
    "    from collections import namedtuple\n",
    "    \n",
    "    emoji_text = text\n",
    "    emoji_str = emoji.emojize(f':{emoji_text}:', language=\"alias\") \n",
    "    print(\"output one: {}; output_two: {}\".format(emoji_text, emoji_str))\n",
    "\n",
    "    emoji_output = namedtuple('Outputs', ['emoji_text', 'emoji'])\n",
    "    return emoji_output(emoji_text, emoji_str)\n",
    "\n",
    "@dsl.component\n",
    "def build_sentence(product: str, emoji: str, emojitext: str) -> str:\n",
    "    print(\"We completed the pipeline, hooray!\")\n",
    "    end_str = product + \" is \"\n",
    "    if len(emoji) > 0:\n",
    "        end_str += emoji\n",
    "    else:\n",
    "        end_str += emojitext\n",
    "    return end_str\n",
    "\n",
    "@dsl.pipeline(name=\"hello-world\", description=\"An intro pipeline\")\n",
    "def intro_pipeline(text: str = \"Vertex Pipelines\", emoji_str: str = \"sparkles\"):\n",
    "    product_task = product_name(text=text)\n",
    "    emoji_task = emoji(text=emoji_str)\n",
    "    consumer_task = build_sentence(\n",
    "        product=product_task.output,\n",
    "        emoji=emoji_task.outputs['emoji'],\n",
    "        emojitext=emoji_task.outputs['emoji_text'])"
   ]
  },
  {
   "attachments": {},
   "cell_type": "markdown",
   "metadata": {},
   "source": [
    "Run Pipeline\n",
    "\n",
    "There is an issue where unicode characteres cant't be handled my the Kubeflow Pipelines operators like `\\u2728` ✨, at least for version `1.8.5`. The issue was reported [here](https://github.com/kubeflow/pipelines/issues/8933). If your pipeline get stuck or failed, that's the issue."
   ]
  },
  {
   "cell_type": "code",
   "execution_count": null,
   "metadata": {},
   "outputs": [],
   "source": [
    "endpoint = \"http://localhost:8080/pipeline\"\n",
    "\n",
    "client.Client(host=endpoint).create_run_from_pipeline_func(\n",
    "    intro_pipeline, arguments={})"
   ]
  },
  {
   "attachments": {},
   "cell_type": "markdown",
   "metadata": {},
   "source": [
    "v1 compilation"
   ]
  },
  {
   "attachments": {},
   "cell_type": "markdown",
   "metadata": {},
   "source": [
    "```python\n",
    "kfp.compiler.Compiler(mode=kfp.dsl.PipelineExecutionMode.V2_COMPATIBLE).compile(\n",
    "    pipeline_func=intro_pipeline,\n",
    "    package_path='intro_pipeline.yaml')\n",
    "```"
   ]
  },
  {
   "attachments": {},
   "cell_type": "markdown",
   "metadata": {},
   "source": [
    "## Vertex AI Pipeline\n"
   ]
  },
  {
   "attachments": {},
   "cell_type": "markdown",
   "metadata": {},
   "source": [
    "```bash\n",
    "gcloud services enable compute.googleapis.com \\\n",
    "                       containerregistry.googleapis.com \\\n",
    "                       aiplatform.googleapis.com \\\n",
    "                       cloudbuild.googleapis.com \\\n",
    "                       cloudfunctions.googleapis.com\n",
    "```"
   ]
  },
  {
   "attachments": {},
   "cell_type": "markdown",
   "metadata": {},
   "source": [
    "Get Project ID"
   ]
  },
  {
   "cell_type": "code",
   "execution_count": null,
   "metadata": {},
   "outputs": [],
   "source": [
    "import os\n",
    "PROJECT_ID = os.environ.get(\"GOOGLE_CLOUD_PROJECT\")\n",
    "print(PROJECT_ID)"
   ]
  },
  {
   "attachments": {},
   "cell_type": "markdown",
   "metadata": {},
   "source": [
    "Define Bucket and variables"
   ]
  },
  {
   "cell_type": "code",
   "execution_count": null,
   "metadata": {},
   "outputs": [],
   "source": [
    "from google.cloud import storage\n",
    "\n",
    "BUCKET_NAME = f'{PROJECT_ID}-vertex'\n",
    "REGION = 'us-central1'\n",
    "\n",
    "storage_client = storage.Client()\n",
    "\n",
    "bucket = storage_client.bucket(BUCKET_NAME)\n",
    "if not bucket.exists():\n",
    "    storage_client.create_bucket(BUCKET_NAME, location=REGION)"
   ]
  },
  {
   "attachments": {},
   "cell_type": "markdown",
   "metadata": {},
   "source": [
    "Compile the pipeline"
   ]
  },
  {
   "cell_type": "code",
   "execution_count": null,
   "metadata": {},
   "outputs": [],
   "source": [
    "from kfp import compiler\n",
    "\n",
    "compiler.Compiler().compile(\n",
    "    pipeline_func=intro_pipeline, package_path=\"intro_pipeline_job.json\"\n",
    ")"
   ]
  },
  {
   "attachments": {},
   "cell_type": "markdown",
   "metadata": {},
   "source": [
    "Run pipeline"
   ]
  },
  {
   "cell_type": "code",
   "execution_count": null,
   "metadata": {},
   "outputs": [],
   "source": [
    "import google.cloud.aiplatform as aip\n",
    "\n",
    "aip.init()\n",
    "\n",
    "job = aip.PipelineJob(\n",
    "    display_name=\"intro pipeline job\",\n",
    "    template_path=\"intro_pipeline_job.json\"\n",
    ").run()"
   ]
  },
  {
   "attachments": {},
   "cell_type": "markdown",
   "metadata": {},
   "source": []
  }
 ],
 "metadata": {
  "kernelspec": {
   "display_name": "intro_to_vertex_pipelines_venv",
   "language": "python",
   "name": "python3"
  },
  "language_info": {
   "codemirror_mode": {
    "name": "ipython",
    "version": 3
   },
   "file_extension": ".py",
   "mimetype": "text/x-python",
   "name": "python",
   "nbconvert_exporter": "python",
   "pygments_lexer": "ipython3",
   "version": "3.9.16"
  },
  "orig_nbformat": 4
 },
 "nbformat": 4,
 "nbformat_minor": 2
}
